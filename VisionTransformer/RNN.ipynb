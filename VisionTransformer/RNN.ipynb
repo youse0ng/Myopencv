{
 "cells": [
  {
   "cell_type": "code",
   "execution_count": 2,
   "id": "08753af5",
   "metadata": {},
   "outputs": [],
   "source": [
    "import torch\n",
    "from torch.nn import RNN, LSTM, Transformer"
   ]
  },
  {
   "cell_type": "code",
   "execution_count": 18,
   "id": "42db64b1",
   "metadata": {},
   "outputs": [
    {
     "data": {
      "text/plain": [
       "OrderedDict([('weight_ih_l0',\n",
       "              tensor([[ 0.3160, -0.6480, -0.1247],\n",
       "                      [-0.1216, -0.6594, -0.1895]])),\n",
       "             ('weight_hh_l0',\n",
       "              tensor([[-0.1899,  0.1208],\n",
       "                      [ 0.1284,  0.3731]])),\n",
       "             ('bias_ih_l0', tensor([-0.1650, -0.6067])),\n",
       "             ('bias_hh_l0', tensor([ 0.5002, -0.1214])),\n",
       "             ('weight_ih_l1',\n",
       "              tensor([[-0.2978, -0.0279],\n",
       "                      [ 0.3297, -0.2358]])),\n",
       "             ('weight_hh_l1',\n",
       "              tensor([[-0.1719, -0.0727],\n",
       "                      [-0.4386,  0.2370]])),\n",
       "             ('bias_ih_l1', tensor([0.6436, 0.0275])),\n",
       "             ('bias_hh_l1', tensor([ 0.6449, -0.2606]))])"
      ]
     },
     "execution_count": 18,
     "metadata": {},
     "output_type": "execute_result"
    }
   ],
   "source": [
    "rnn = RNN(3,2,2)\n",
    "rnn.state_dict()"
   ]
  }
 ],
 "metadata": {
  "kernelspec": {
   "display_name": "pytorch",
   "language": "python",
   "name": "python3"
  },
  "language_info": {
   "codemirror_mode": {
    "name": "ipython",
    "version": 3
   },
   "file_extension": ".py",
   "mimetype": "text/x-python",
   "name": "python",
   "nbconvert_exporter": "python",
   "pygments_lexer": "ipython3",
   "version": "3.9.19"
  }
 },
 "nbformat": 4,
 "nbformat_minor": 5
}
