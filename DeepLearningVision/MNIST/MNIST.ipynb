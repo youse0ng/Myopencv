{
 "cells": [
  {
   "cell_type": "markdown",
   "metadata": {},
   "source": [
    "# 필요한 라이브러리 갖고 오기"
   ]
  },
  {
   "cell_type": "code",
   "execution_count": 1,
   "metadata": {},
   "outputs": [
    {
     "name": "stderr",
     "output_type": "stream",
     "text": [
      "c:\\Users\\hyssk\\anaconda3\\envs\\pytorch_project\\lib\\site-packages\\tqdm\\auto.py:21: TqdmWarning: IProgress not found. Please update jupyter and ipywidgets. See https://ipywidgets.readthedocs.io/en/stable/user_install.html\n",
      "  from .autonotebook import tqdm as notebook_tqdm\n"
     ]
    }
   ],
   "source": [
    "import torch\n",
    "import torch.nn\n",
    "from torchvision import datasets\n",
    "from torchvision import transforms\n",
    "from torch.utils.data import DataLoader\n",
    "import numpy as np\n",
    "import torch.optim\n",
    "from tqdm.auto import tqdm\n",
    "import matplotlib.pyplot as plt\n",
    "import os\n",
    "os.environ[\"KMP_DUPLICATE_LIB_OK\"]=\"TRUE\""
   ]
  },
  {
   "cell_type": "markdown",
   "metadata": {},
   "source": [
    "# MNIST 데이터셋 불러오기와 MINI_Batch를 위한 DataLoader 생성 (데이터 파이프라인)"
   ]
  },
  {
   "cell_type": "code",
   "execution_count": 2,
   "metadata": {},
   "outputs": [
    {
     "name": "stdout",
     "output_type": "stream",
     "text": [
      "train_data의 개수: 60000\n",
      "test_data의 개수: 10000\n",
      "train_data[0]: (tensor([[[0.0000, 0.0000, 0.0000, 0.0000, 0.0000, 0.0000, 0.0000, 0.0000,\n",
      "          0.0000, 0.0000, 0.0000, 0.0000, 0.0000, 0.0000, 0.0000, 0.0000,\n",
      "          0.0000, 0.0000, 0.0000, 0.0000, 0.0000, 0.0000, 0.0000, 0.0000,\n",
      "          0.0000, 0.0000, 0.0000, 0.0000],\n",
      "         [0.0000, 0.0000, 0.0000, 0.0000, 0.0000, 0.0000, 0.0000, 0.0000,\n",
      "          0.0000, 0.0000, 0.0000, 0.0000, 0.0000, 0.0000, 0.0000, 0.0000,\n",
      "          0.0000, 0.0000, 0.0000, 0.0000, 0.0000, 0.0000, 0.0000, 0.0000,\n",
      "          0.0000, 0.0000, 0.0000, 0.0000],\n",
      "         [0.0000, 0.0000, 0.0000, 0.0000, 0.0000, 0.0000, 0.0000, 0.0000,\n",
      "          0.0000, 0.0000, 0.0000, 0.0000, 0.0000, 0.0000, 0.0000, 0.0000,\n",
      "          0.0000, 0.0000, 0.0000, 0.0000, 0.0000, 0.0000, 0.0000, 0.0000,\n",
      "          0.0000, 0.0000, 0.0000, 0.0000],\n",
      "         [0.0000, 0.0000, 0.0000, 0.0000, 0.0000, 0.0000, 0.0000, 0.0000,\n",
      "          0.0000, 0.0000, 0.0000, 0.0000, 0.0000, 0.0000, 0.0000, 0.0000,\n",
      "          0.0000, 0.0000, 0.0000, 0.0000, 0.0000, 0.0000, 0.0000, 0.0000,\n",
      "          0.0000, 0.0000, 0.0000, 0.0000],\n",
      "         [0.0000, 0.0000, 0.0000, 0.0000, 0.0000, 0.0000, 0.0000, 0.0000,\n",
      "          0.0000, 0.0000, 0.0000, 0.0000, 0.0000, 0.0000, 0.0000, 0.0000,\n",
      "          0.0000, 0.0000, 0.0000, 0.0000, 0.0000, 0.0000, 0.0000, 0.0000,\n",
      "          0.0000, 0.0000, 0.0000, 0.0000],\n",
      "         [0.0000, 0.0000, 0.0000, 0.0000, 0.0000, 0.0000, 0.0000, 0.0000,\n",
      "          0.0000, 0.0000, 0.0000, 0.0000, 0.0118, 0.0706, 0.0706, 0.0706,\n",
      "          0.4941, 0.5333, 0.6863, 0.1020, 0.6510, 1.0000, 0.9686, 0.4980,\n",
      "          0.0000, 0.0000, 0.0000, 0.0000],\n",
      "         [0.0000, 0.0000, 0.0000, 0.0000, 0.0000, 0.0000, 0.0000, 0.0000,\n",
      "          0.1176, 0.1412, 0.3686, 0.6039, 0.6667, 0.9922, 0.9922, 0.9922,\n",
      "          0.9922, 0.9922, 0.8824, 0.6745, 0.9922, 0.9490, 0.7647, 0.2510,\n",
      "          0.0000, 0.0000, 0.0000, 0.0000],\n",
      "         [0.0000, 0.0000, 0.0000, 0.0000, 0.0000, 0.0000, 0.0000, 0.1922,\n",
      "          0.9333, 0.9922, 0.9922, 0.9922, 0.9922, 0.9922, 0.9922, 0.9922,\n",
      "          0.9922, 0.9843, 0.3647, 0.3216, 0.3216, 0.2196, 0.1529, 0.0000,\n",
      "          0.0000, 0.0000, 0.0000, 0.0000],\n",
      "         [0.0000, 0.0000, 0.0000, 0.0000, 0.0000, 0.0000, 0.0000, 0.0706,\n",
      "          0.8588, 0.9922, 0.9922, 0.9922, 0.9922, 0.9922, 0.7765, 0.7137,\n",
      "          0.9686, 0.9451, 0.0000, 0.0000, 0.0000, 0.0000, 0.0000, 0.0000,\n",
      "          0.0000, 0.0000, 0.0000, 0.0000],\n",
      "         [0.0000, 0.0000, 0.0000, 0.0000, 0.0000, 0.0000, 0.0000, 0.0000,\n",
      "          0.3137, 0.6118, 0.4196, 0.9922, 0.9922, 0.8039, 0.0431, 0.0000,\n",
      "          0.1686, 0.6039, 0.0000, 0.0000, 0.0000, 0.0000, 0.0000, 0.0000,\n",
      "          0.0000, 0.0000, 0.0000, 0.0000],\n",
      "         [0.0000, 0.0000, 0.0000, 0.0000, 0.0000, 0.0000, 0.0000, 0.0000,\n",
      "          0.0000, 0.0549, 0.0039, 0.6039, 0.9922, 0.3529, 0.0000, 0.0000,\n",
      "          0.0000, 0.0000, 0.0000, 0.0000, 0.0000, 0.0000, 0.0000, 0.0000,\n",
      "          0.0000, 0.0000, 0.0000, 0.0000],\n",
      "         [0.0000, 0.0000, 0.0000, 0.0000, 0.0000, 0.0000, 0.0000, 0.0000,\n",
      "          0.0000, 0.0000, 0.0000, 0.5451, 0.9922, 0.7451, 0.0078, 0.0000,\n",
      "          0.0000, 0.0000, 0.0000, 0.0000, 0.0000, 0.0000, 0.0000, 0.0000,\n",
      "          0.0000, 0.0000, 0.0000, 0.0000],\n",
      "         [0.0000, 0.0000, 0.0000, 0.0000, 0.0000, 0.0000, 0.0000, 0.0000,\n",
      "          0.0000, 0.0000, 0.0000, 0.0431, 0.7451, 0.9922, 0.2745, 0.0000,\n",
      "          0.0000, 0.0000, 0.0000, 0.0000, 0.0000, 0.0000, 0.0000, 0.0000,\n",
      "          0.0000, 0.0000, 0.0000, 0.0000],\n",
      "         [0.0000, 0.0000, 0.0000, 0.0000, 0.0000, 0.0000, 0.0000, 0.0000,\n",
      "          0.0000, 0.0000, 0.0000, 0.0000, 0.1373, 0.9451, 0.8824, 0.6275,\n",
      "          0.4235, 0.0039, 0.0000, 0.0000, 0.0000, 0.0000, 0.0000, 0.0000,\n",
      "          0.0000, 0.0000, 0.0000, 0.0000],\n",
      "         [0.0000, 0.0000, 0.0000, 0.0000, 0.0000, 0.0000, 0.0000, 0.0000,\n",
      "          0.0000, 0.0000, 0.0000, 0.0000, 0.0000, 0.3176, 0.9412, 0.9922,\n",
      "          0.9922, 0.4667, 0.0980, 0.0000, 0.0000, 0.0000, 0.0000, 0.0000,\n",
      "          0.0000, 0.0000, 0.0000, 0.0000],\n",
      "         [0.0000, 0.0000, 0.0000, 0.0000, 0.0000, 0.0000, 0.0000, 0.0000,\n",
      "          0.0000, 0.0000, 0.0000, 0.0000, 0.0000, 0.0000, 0.1765, 0.7294,\n",
      "          0.9922, 0.9922, 0.5882, 0.1059, 0.0000, 0.0000, 0.0000, 0.0000,\n",
      "          0.0000, 0.0000, 0.0000, 0.0000],\n",
      "         [0.0000, 0.0000, 0.0000, 0.0000, 0.0000, 0.0000, 0.0000, 0.0000,\n",
      "          0.0000, 0.0000, 0.0000, 0.0000, 0.0000, 0.0000, 0.0000, 0.0627,\n",
      "          0.3647, 0.9882, 0.9922, 0.7333, 0.0000, 0.0000, 0.0000, 0.0000,\n",
      "          0.0000, 0.0000, 0.0000, 0.0000],\n",
      "         [0.0000, 0.0000, 0.0000, 0.0000, 0.0000, 0.0000, 0.0000, 0.0000,\n",
      "          0.0000, 0.0000, 0.0000, 0.0000, 0.0000, 0.0000, 0.0000, 0.0000,\n",
      "          0.0000, 0.9765, 0.9922, 0.9765, 0.2510, 0.0000, 0.0000, 0.0000,\n",
      "          0.0000, 0.0000, 0.0000, 0.0000],\n",
      "         [0.0000, 0.0000, 0.0000, 0.0000, 0.0000, 0.0000, 0.0000, 0.0000,\n",
      "          0.0000, 0.0000, 0.0000, 0.0000, 0.0000, 0.0000, 0.1804, 0.5098,\n",
      "          0.7176, 0.9922, 0.9922, 0.8118, 0.0078, 0.0000, 0.0000, 0.0000,\n",
      "          0.0000, 0.0000, 0.0000, 0.0000],\n",
      "         [0.0000, 0.0000, 0.0000, 0.0000, 0.0000, 0.0000, 0.0000, 0.0000,\n",
      "          0.0000, 0.0000, 0.0000, 0.0000, 0.1529, 0.5804, 0.8980, 0.9922,\n",
      "          0.9922, 0.9922, 0.9804, 0.7137, 0.0000, 0.0000, 0.0000, 0.0000,\n",
      "          0.0000, 0.0000, 0.0000, 0.0000],\n",
      "         [0.0000, 0.0000, 0.0000, 0.0000, 0.0000, 0.0000, 0.0000, 0.0000,\n",
      "          0.0000, 0.0000, 0.0941, 0.4471, 0.8667, 0.9922, 0.9922, 0.9922,\n",
      "          0.9922, 0.7882, 0.3059, 0.0000, 0.0000, 0.0000, 0.0000, 0.0000,\n",
      "          0.0000, 0.0000, 0.0000, 0.0000],\n",
      "         [0.0000, 0.0000, 0.0000, 0.0000, 0.0000, 0.0000, 0.0000, 0.0000,\n",
      "          0.0902, 0.2588, 0.8353, 0.9922, 0.9922, 0.9922, 0.9922, 0.7765,\n",
      "          0.3176, 0.0078, 0.0000, 0.0000, 0.0000, 0.0000, 0.0000, 0.0000,\n",
      "          0.0000, 0.0000, 0.0000, 0.0000],\n",
      "         [0.0000, 0.0000, 0.0000, 0.0000, 0.0000, 0.0000, 0.0706, 0.6706,\n",
      "          0.8588, 0.9922, 0.9922, 0.9922, 0.9922, 0.7647, 0.3137, 0.0353,\n",
      "          0.0000, 0.0000, 0.0000, 0.0000, 0.0000, 0.0000, 0.0000, 0.0000,\n",
      "          0.0000, 0.0000, 0.0000, 0.0000],\n",
      "         [0.0000, 0.0000, 0.0000, 0.0000, 0.2157, 0.6745, 0.8863, 0.9922,\n",
      "          0.9922, 0.9922, 0.9922, 0.9569, 0.5216, 0.0431, 0.0000, 0.0000,\n",
      "          0.0000, 0.0000, 0.0000, 0.0000, 0.0000, 0.0000, 0.0000, 0.0000,\n",
      "          0.0000, 0.0000, 0.0000, 0.0000],\n",
      "         [0.0000, 0.0000, 0.0000, 0.0000, 0.5333, 0.9922, 0.9922, 0.9922,\n",
      "          0.8314, 0.5294, 0.5176, 0.0627, 0.0000, 0.0000, 0.0000, 0.0000,\n",
      "          0.0000, 0.0000, 0.0000, 0.0000, 0.0000, 0.0000, 0.0000, 0.0000,\n",
      "          0.0000, 0.0000, 0.0000, 0.0000],\n",
      "         [0.0000, 0.0000, 0.0000, 0.0000, 0.0000, 0.0000, 0.0000, 0.0000,\n",
      "          0.0000, 0.0000, 0.0000, 0.0000, 0.0000, 0.0000, 0.0000, 0.0000,\n",
      "          0.0000, 0.0000, 0.0000, 0.0000, 0.0000, 0.0000, 0.0000, 0.0000,\n",
      "          0.0000, 0.0000, 0.0000, 0.0000],\n",
      "         [0.0000, 0.0000, 0.0000, 0.0000, 0.0000, 0.0000, 0.0000, 0.0000,\n",
      "          0.0000, 0.0000, 0.0000, 0.0000, 0.0000, 0.0000, 0.0000, 0.0000,\n",
      "          0.0000, 0.0000, 0.0000, 0.0000, 0.0000, 0.0000, 0.0000, 0.0000,\n",
      "          0.0000, 0.0000, 0.0000, 0.0000],\n",
      "         [0.0000, 0.0000, 0.0000, 0.0000, 0.0000, 0.0000, 0.0000, 0.0000,\n",
      "          0.0000, 0.0000, 0.0000, 0.0000, 0.0000, 0.0000, 0.0000, 0.0000,\n",
      "          0.0000, 0.0000, 0.0000, 0.0000, 0.0000, 0.0000, 0.0000, 0.0000,\n",
      "          0.0000, 0.0000, 0.0000, 0.0000]]]), 5)\n",
      "train_data[0].shape:torch.Size([1, 28, 28])\n",
      "train_data[0][0]의 자료형: <class 'torch.Tensor'>\n",
      "torch_version:1.12.0\n",
      "['_DataLoader__initialized', '_DataLoader__multiprocessing_context', '_IterableDataset_len_called', '__annotations__', '__class__', '__class_getitem__', '__delattr__', '__dict__', '__dir__', '__doc__', '__eq__', '__format__', '__ge__', '__getattribute__', '__gt__', '__hash__', '__init__', '__init_subclass__', '__iter__', '__le__', '__len__', '__lt__', '__module__', '__ne__', '__new__', '__orig_bases__', '__parameters__', '__reduce__', '__reduce_ex__', '__repr__', '__setattr__', '__sizeof__', '__slots__', '__str__', '__subclasshook__', '__weakref__', '_auto_collation', '_dataset_kind', '_get_iterator', '_get_shared_seed', '_index_sampler', '_iterator', 'batch_sampler', 'batch_size', 'check_worker_number_rationality', 'collate_fn', 'dataset', 'drop_last', 'generator', 'multiprocessing_context', 'num_workers', 'persistent_workers', 'pin_memory', 'pin_memory_device', 'prefetch_factor', 'sampler', 'timeout', 'worker_init_fn']\n",
      "train_dataloader: torch.Size([32, 1, 28, 28])\n",
      "train_dataloader의 개수: 1875\n"
     ]
    }
   ],
   "source": [
    "# MNIST 데이터셋 불러오기\n",
    "train_data=datasets.MNIST('DeepLearningVision\\data',True,transforms.ToTensor(),\n",
    "                       None,True)\n",
    "\n",
    "test_data=datasets.MNIST('DeepLearningVision\\data',False,transforms.ToTensor(),\n",
    "                       None,True)\n",
    "\n",
    "# 데이터셋의 클래스 객체 저장\n",
    "classes=train_data.classes\n",
    "\n",
    "# train_data 데이터셋 정보를 확인 (dir(train_data))\n",
    "print(f'train_data의 개수: {len(train_data)}')\n",
    "print(f'test_data의 개수: {len(test_data)}')\n",
    "print(f'train_data[0]: {train_data[0]}') # 튜플 (배열,클래스넘버)\n",
    "print(f'train_data[0].shape:{train_data[0][0].shape}') # 배열의 shape\n",
    "print(f'train_data[0][0]의 자료형: {type(train_data[0][0])}') # torch.Tensor형\n",
    "\n",
    "# 데이터셋을 BATCH_SIZE (SGD:Stochastic Gradient Descent) 스토캐스택 경사하강법을 하기 위한 DataLoader 생성\n",
    "train_dataloader=DataLoader(dataset=train_data,\n",
    "                            batch_size=32,\n",
    "                            shuffle=True)\n",
    "\n",
    "test_dataloader=DataLoader(dataset=test_data,\n",
    "                           shuffle=False,\n",
    "                           batch_size=32)\n",
    "print(f'torch_version:{torch.__version__}')\n",
    "# dataloader의 기능 function 확인 (class method, attribution)\n",
    "print(dir(train_dataloader))\n",
    "print(f'train_dataloader: {next(iter(train_dataloader))[0].shape}')\n",
    "print(f'train_dataloader의 개수: {len(train_dataloader)}') # 60000 // 32"
   ]
  },
  {
   "cell_type": "code",
   "execution_count": 3,
   "metadata": {},
   "outputs": [
    {
     "data": {
      "text/plain": [
       "'cuda'"
      ]
     },
     "execution_count": 3,
     "metadata": {},
     "output_type": "execute_result"
    }
   ],
   "source": [
    "device='cuda' if torch.cuda.is_available() else 'cpu'\n",
    "device"
   ]
  },
  {
   "cell_type": "markdown",
   "metadata": {},
   "source": [
    "# 모델 생성 및 Optimizer와 Loss Function 생성"
   ]
  },
  {
   "cell_type": "code",
   "execution_count": 16,
   "metadata": {},
   "outputs": [],
   "source": [
    "# Train_dataloader를 학습하기 위한 딥러닝 신경망 모델 생성\n",
    "# Fully Connected Layer 2개 생성\n",
    "class MNISTModel(torch.nn.Module):\n",
    "    def __init__(self,\n",
    "                 input_shape:int,\n",
    "                 hidden_units:int,\n",
    "                 output_shape:int):\n",
    "        super().__init__()\n",
    "        self.layer1=torch.nn.Sequential(\n",
    "                            torch.nn.Flatten(),\n",
    "                            torch.nn.Linear(in_features=input_shape,\n",
    "                                                   out_features=hidden_units),\n",
    "                            torch.nn.Linear(in_features=hidden_units,\n",
    "                                                   out_features=output_shape)\n",
    "        )\n",
    "    def forward(self,x):\n",
    "        print(x.shape)\n",
    "        return self.layer1(x)\n",
    "\n",
    "# 28 * 28 사이즈의 이미지 크기이기에 픽셀 하나를 노드 하나로 취급 \n",
    "# hidden unit 512개의 노드\n",
    "# output_shape은 클래스가 10개 있으므로, 출력층 노드도 10개로 지정\n",
    "model_0=MNISTModel(input_shape=28*28,\n",
    "                   hidden_units=512,\n",
    "                   output_shape=10).to(device)\n",
    "\n",
    "# 최적화 기법 (SGD) 정의\n",
    "# 최적화할 손실함수 정의 MSELoss : Mean Squared Loss (평균 제곱 오차)\n",
    "optimizer=torch.optim.SGD(params=model_0.parameters(),lr=0.001) # model_0의 파라미터를 갱신, learning rate는 0.01 (가중치 - 0.01 * Loss에 대한 해당 가중치의 Gradient)\n",
    "loss_fn=torch.nn.CrossEntropyLoss()\n",
    "\n",
    "# 모델 학습하는데 걸리는 시간 측정을 위한 함수\n",
    "from timeit import default_timer as timer\n",
    "def print_train_time(start:float,\n",
    "                     end: float,\n",
    "                     device:torch.device=\"cuda\"):\n",
    "  \"\"\"Prints difference between start and end time.\"\"\"\n",
    "  total_time=end-start\n",
    "  print(f\"{device}상에서 걸린 학습시간: {total_time:.3f} seconds\")\n",
    "  return total_time\n"
   ]
  },
  {
   "cell_type": "code",
   "execution_count": 17,
   "metadata": {},
   "outputs": [
    {
     "name": "stdout",
     "output_type": "stream",
     "text": [
      "torch.Size([2, 1, 28, 28])\n",
      "----------------------------------------------------------------\n",
      "        Layer (type)               Output Shape         Param #\n",
      "================================================================\n",
      "           Flatten-1                  [-1, 784]               0\n",
      "            Linear-2                  [-1, 512]         401,920\n",
      "            Linear-3                   [-1, 10]           5,130\n",
      "================================================================\n",
      "Total params: 407,050\n",
      "Trainable params: 407,050\n",
      "Non-trainable params: 0\n",
      "----------------------------------------------------------------\n",
      "Input size (MB): 0.00\n",
      "Forward/backward pass size (MB): 0.01\n",
      "Params size (MB): 1.55\n",
      "Estimated Total Size (MB): 1.57\n",
      "----------------------------------------------------------------\n"
     ]
    }
   ],
   "source": [
    "from torchsummary import summary\n",
    "\n",
    "summary(model_0,(1,28,28))"
   ]
  },
  {
   "cell_type": "markdown",
   "metadata": {},
   "source": [
    "# 학습과 검증 Engine 구현 "
   ]
  },
  {
   "cell_type": "code",
   "execution_count": 6,
   "metadata": {},
   "outputs": [
    {
     "name": "stderr",
     "output_type": "stream",
     "text": [
      "  0%|          | 0/15 [00:00<?, ?it/s]"
     ]
    },
    {
     "name": "stdout",
     "output_type": "stream",
     "text": [
      " train_loss: 1.8131991624832153\n"
     ]
    },
    {
     "name": "stderr",
     "output_type": "stream",
     "text": [
      "  7%|▋         | 1/15 [00:06<01:31,  6.56s/it]"
     ]
    },
    {
     "name": "stdout",
     "output_type": "stream",
     "text": [
      "Train_Loss: 1.81, Train_acc: 64.61, Test_Loss: 0.23, Test_Acc: 81.25\n",
      " train_loss: 1.1165415048599243\n"
     ]
    },
    {
     "name": "stderr",
     "output_type": "stream",
     "text": [
      " 13%|█▎        | 2/15 [00:13<01:27,  6.77s/it]"
     ]
    },
    {
     "name": "stdout",
     "output_type": "stream",
     "text": [
      "Train_Loss: 1.12, Train_acc: 79.75, Test_Loss: 0.15, Test_Acc: 81.25\n",
      " train_loss: 0.7933560609817505\n"
     ]
    },
    {
     "name": "stderr",
     "output_type": "stream",
     "text": [
      " 20%|██        | 3/15 [00:20<01:23,  6.92s/it]"
     ]
    },
    {
     "name": "stdout",
     "output_type": "stream",
     "text": [
      "Train_Loss: 0.79, Train_acc: 83.32, Test_Loss: 0.11, Test_Acc: 81.25\n",
      " train_loss: 0.6451126933097839\n"
     ]
    },
    {
     "name": "stderr",
     "output_type": "stream",
     "text": [
      " 27%|██▋       | 4/15 [00:27<01:16,  6.94s/it]"
     ]
    },
    {
     "name": "stdout",
     "output_type": "stream",
     "text": [
      "Train_Loss: 0.65, Train_acc: 85.09, Test_Loss: 0.10, Test_Acc: 87.50\n",
      " train_loss: 0.5632078051567078\n"
     ]
    },
    {
     "name": "stderr",
     "output_type": "stream",
     "text": [
      " 33%|███▎      | 5/15 [00:34<01:10,  7.00s/it]"
     ]
    },
    {
     "name": "stdout",
     "output_type": "stream",
     "text": [
      "Train_Loss: 0.56, Train_acc: 86.31, Test_Loss: 0.09, Test_Acc: 87.50\n",
      " train_loss: 0.5115451216697693\n"
     ]
    },
    {
     "name": "stderr",
     "output_type": "stream",
     "text": [
      " 40%|████      | 6/15 [00:41<01:03,  7.01s/it]"
     ]
    },
    {
     "name": "stdout",
     "output_type": "stream",
     "text": [
      "Train_Loss: 0.51, Train_acc: 87.06, Test_Loss: 0.08, Test_Acc: 87.50\n",
      " train_loss: 0.4761136472225189\n"
     ]
    },
    {
     "name": "stderr",
     "output_type": "stream",
     "text": [
      " 47%|████▋     | 7/15 [00:48<00:56,  7.04s/it]"
     ]
    },
    {
     "name": "stdout",
     "output_type": "stream",
     "text": [
      "Train_Loss: 0.48, Train_acc: 87.65, Test_Loss: 0.07, Test_Acc: 93.75\n",
      " train_loss: 0.45027923583984375\n"
     ]
    },
    {
     "name": "stderr",
     "output_type": "stream",
     "text": [
      " 53%|█████▎    | 8/15 [00:55<00:49,  7.06s/it]"
     ]
    },
    {
     "name": "stdout",
     "output_type": "stream",
     "text": [
      "Train_Loss: 0.45, Train_acc: 88.12, Test_Loss: 0.07, Test_Acc: 100.00\n",
      " train_loss: 0.43058767914772034\n"
     ]
    },
    {
     "name": "stderr",
     "output_type": "stream",
     "text": [
      " 60%|██████    | 9/15 [01:02<00:42,  7.07s/it]"
     ]
    },
    {
     "name": "stdout",
     "output_type": "stream",
     "text": [
      "Train_Loss: 0.43, Train_acc: 88.46, Test_Loss: 0.07, Test_Acc: 100.00\n",
      " train_loss: 0.415124773979187\n"
     ]
    },
    {
     "name": "stderr",
     "output_type": "stream",
     "text": [
      " 67%|██████▋   | 10/15 [01:10<00:35,  7.12s/it]"
     ]
    },
    {
     "name": "stdout",
     "output_type": "stream",
     "text": [
      "Train_Loss: 0.42, Train_acc: 88.76, Test_Loss: 0.06, Test_Acc: 100.00\n",
      " train_loss: 0.4025290012359619\n"
     ]
    },
    {
     "name": "stderr",
     "output_type": "stream",
     "text": [
      " 73%|███████▎  | 11/15 [01:17<00:28,  7.17s/it]"
     ]
    },
    {
     "name": "stdout",
     "output_type": "stream",
     "text": [
      "Train_Loss: 0.40, Train_acc: 88.95, Test_Loss: 0.06, Test_Acc: 93.75\n",
      " train_loss: 0.3921918272972107\n"
     ]
    },
    {
     "name": "stderr",
     "output_type": "stream",
     "text": [
      " 80%|████████  | 12/15 [01:24<00:21,  7.19s/it]"
     ]
    },
    {
     "name": "stdout",
     "output_type": "stream",
     "text": [
      "Train_Loss: 0.39, Train_acc: 89.22, Test_Loss: 0.06, Test_Acc: 93.75\n",
      " train_loss: 0.38340863585472107\n"
     ]
    },
    {
     "name": "stderr",
     "output_type": "stream",
     "text": [
      " 87%|████████▋ | 13/15 [01:31<00:14,  7.18s/it]"
     ]
    },
    {
     "name": "stdout",
     "output_type": "stream",
     "text": [
      "Train_Loss: 0.38, Train_acc: 89.34, Test_Loss: 0.06, Test_Acc: 93.75\n",
      " train_loss: 0.3759017884731293\n"
     ]
    },
    {
     "name": "stderr",
     "output_type": "stream",
     "text": [
      " 93%|█████████▎| 14/15 [01:39<00:07,  7.19s/it]"
     ]
    },
    {
     "name": "stdout",
     "output_type": "stream",
     "text": [
      "Train_Loss: 0.38, Train_acc: 89.51, Test_Loss: 0.06, Test_Acc: 93.75\n",
      " train_loss: 0.3693719208240509\n"
     ]
    },
    {
     "name": "stderr",
     "output_type": "stream",
     "text": [
      "100%|██████████| 15/15 [01:46<00:00,  7.09s/it]"
     ]
    },
    {
     "name": "stdout",
     "output_type": "stream",
     "text": [
      "Train_Loss: 0.37, Train_acc: 89.67, Test_Loss: 0.06, Test_Acc: 93.75\n",
      "cuda상에서 걸린 학습시간: 106.474 seconds\n"
     ]
    },
    {
     "name": "stderr",
     "output_type": "stream",
     "text": [
      "\n"
     ]
    },
    {
     "data": {
      "text/plain": [
       "106.4738502"
      ]
     },
     "execution_count": 6,
     "metadata": {},
     "output_type": "execute_result"
    }
   ],
   "source": [
    "# acc 평가\n",
    "def accuracy_fn(prediction,true):\n",
    "    correct=torch.eq(prediction,true).sum().item()\n",
    "    acc=(correct/len(true))*100\n",
    "    return acc\n",
    "\n",
    "start_time=timer()\n",
    "train_acc_list=[]\n",
    "train_loss_list=[]\n",
    "test_loss_list=[]\n",
    "test_acc_list=[]\n",
    "EPOCH=15 # 60000개의 데이터에 대한 훑고감 정도? 10번 시행\n",
    "for epoch in tqdm(range(EPOCH)):\n",
    "    train_loss=0\n",
    "    train_acc=0\n",
    "    for Batch,(x_train,y_train) in enumerate(train_dataloader):\n",
    "        model_0.train(True)\n",
    "        # Do forward pass (로짓 계산)\n",
    "        x_train,y_train=x_train.to(device),y_train.to(device)\n",
    "        y_logits=model_0(x_train)\n",
    "        # Calculate loss (손실 계산)\n",
    "        loss=loss_fn(y_logits,y_train)\n",
    "        train_loss+=loss\n",
    "        # acc 계산\n",
    "        train_acc+=accuracy_fn(y_logits.argmax(dim=1),y_train)\n",
    "        # optimizer zero grad (경사 추적 x)\n",
    "        optimizer.zero_grad()\n",
    "        # loss backward (역전파를 통한 gradient 구하기)\n",
    "        loss.backward()\n",
    "        # optimizer step (가중치 갱신)\n",
    "        optimizer.step()\n",
    "    train_loss/=len(train_dataloader)\n",
    "    train_acc/=len(train_dataloader)\n",
    "    train_loss_list.append(train_loss.item())\n",
    "    train_acc_list.append(train_acc)\n",
    "    print(f' train_loss: {train_loss}')\n",
    "    # Evaluation\n",
    "    test_loss=0.0\n",
    "    test_acc=0.0\n",
    "    model_0.eval()\n",
    "    with torch.inference_mode():\n",
    "        for X_test,y_test in test_dataloader:\n",
    "            X_test,y_test=X_test.to(device),y_test.to(device)\n",
    "            # Forward Pass\n",
    "            test_logits=model_0(X_test)\n",
    "            # 손실 계산\n",
    "            test_loss+=loss_fn(test_logits,y_test)\n",
    "        test_acc+=accuracy_fn(test_logits.argmax(dim=1),y_test)\n",
    "        test_loss /= len(train_dataloader)\n",
    "        test_acc_list.append(test_acc)\n",
    "        test_loss_list.append(test_loss.item())\n",
    "    print(f\"Train_Loss: {train_loss:.2f}, Train_acc: {train_acc:.2f}, Test_Loss: {test_loss:.2f}, Test_Acc: {test_acc:.2f}\")\n",
    "end_time=timer()\n",
    "print_train_time(start_time,end_time)"
   ]
  },
  {
   "cell_type": "markdown",
   "metadata": {},
   "source": [
    "# 성능 탐구"
   ]
  },
  {
   "cell_type": "code",
   "execution_count": 7,
   "metadata": {},
   "outputs": [
    {
     "data": {
      "text/plain": [
       "<Figure size 1200x800 with 0 Axes>"
      ]
     },
     "metadata": {},
     "output_type": "display_data"
    },
    {
     "data": {
      "image/png": "[encoded data removed]",
      "text/plain": [
       "<Figure size 1200x600 with 2 Axes>"
      ]
     },
     "metadata": {},
     "output_type": "display_data"
    }
   ],
   "source": [
    "# 결과 플로팅 하고싶다.\n",
    "plt.figure(figsize=(12,8))\n",
    "\n",
    "from matplotlib import font_manager, rc\n",
    "font_path = \"c:\\WINDOWS\\Fonts\\GULIM.TTC\"\n",
    "font = font_manager.FontProperties(fname=font_path).get_name()\n",
    "rc('font', family=font)\n",
    "\n",
    "plt.figure(figsize=(12,6))\n",
    "plt.rc('font', size=12) \n",
    "plt.subplot(1,2,1)\n",
    "plt.plot(np.arange(EPOCH),train_acc_list,label='train_acc',color='red')\n",
    "plt.plot(np.arange(EPOCH),test_acc_list,label='test_acc',color='blue')\n",
    "plt.xlabel('EPOCHS')\n",
    "plt.title('정확성')\n",
    "plt.ylabel(\"Accuracy\")\n",
    "plt.legend(fontsize=10)\n",
    "\n",
    "plt.subplot(1,2,2)\n",
    "plt.plot(np.arange(EPOCH),test_loss_list,label='test_loss',color='red')\n",
    "plt.plot(np.arange(EPOCH),train_loss_list,label='train_loss',color='blue')\n",
    "plt.xlabel('EPOCHS')\n",
    "plt.title('손실')\n",
    "plt.ylabel(\"Loss\")\n",
    "plt.legend(fontsize=10)\n",
    "plt.show()"
   ]
  },
  {
   "cell_type": "markdown",
   "metadata": {},
   "source": [
    "# Model 파라미터 Save"
   ]
  },
  {
   "cell_type": "code",
   "execution_count": 8,
   "metadata": {},
   "outputs": [
    {
     "name": "stdout",
     "output_type": "stream",
     "text": [
      "모델 파라미터 형태 파악: \n",
      " OrderedDict([('layer1.1.weight', tensor([[ 0.0117,  0.0016,  0.0142,  ..., -0.0139, -0.0350,  0.0170],\n",
      "        [-0.0125, -0.0188,  0.0055,  ..., -0.0262,  0.0243,  0.0184],\n",
      "        [ 0.0320,  0.0021, -0.0229,  ...,  0.0046, -0.0142,  0.0036],\n",
      "        ...,\n",
      "        [ 0.0126,  0.0167, -0.0036,  ...,  0.0321, -0.0293,  0.0294],\n",
      "        [-0.0259, -0.0299, -0.0189,  ...,  0.0051,  0.0158,  0.0145],\n",
      "        [-0.0122,  0.0161,  0.0320,  ...,  0.0022, -0.0033, -0.0291]],\n",
      "       device='cuda:0')), ('layer1.1.bias', tensor([-0.0292,  0.0466,  0.0443,  0.0199,  0.0113, -0.0057, -0.0330,  0.0150,\n",
      "        -0.0285, -0.0171,  0.0297,  0.0165, -0.0073,  0.0199, -0.0188,  0.0220,\n",
      "         0.0303, -0.0014, -0.0268, -0.0112,  0.0126, -0.0215,  0.0210, -0.0295,\n",
      "        -0.0287, -0.0041,  0.0185, -0.0285, -0.0109, -0.0242,  0.0211, -0.0078,\n",
      "        -0.0331, -0.0070,  0.0057,  0.0162,  0.0156,  0.0159, -0.0136, -0.0046,\n",
      "        -0.0012,  0.0197, -0.0205, -0.0137,  0.0076,  0.0103,  0.0187,  0.0154,\n",
      "        -0.0380, -0.0047, -0.0258,  0.0341,  0.0467, -0.0008,  0.0282, -0.0357,\n",
      "         0.0062,  0.0417,  0.0504,  0.0138,  0.0034, -0.0173,  0.0201, -0.0130,\n",
      "         0.0025, -0.0479,  0.0271,  0.0330, -0.0002,  0.0219, -0.0171, -0.0409,\n",
      "        -0.0035, -0.0102,  0.0367, -0.0048,  0.0026, -0.0056,  0.0008,  0.0089,\n",
      "         0.0174, -0.0065, -0.0058,  0.0193, -0.0524,  0.0149, -0.0047,  0.0206,\n",
      "         0.0160, -0.0026,  0.0137,  0.0371,  0.0270,  0.0217, -0.0227,  0.0285,\n",
      "        -0.0039, -0.0033,  0.0165,  0.0167, -0.0148, -0.0063,  0.0094,  0.0437,\n",
      "        -0.0356,  0.0430, -0.0285, -0.0168,  0.0051, -0.0385,  0.0095,  0.0076,\n",
      "         0.0425, -0.0402, -0.0203,  0.0107,  0.0208,  0.0075, -0.0221, -0.0170,\n",
      "         0.0165,  0.0238,  0.0144,  0.0101,  0.0129, -0.0414,  0.0048,  0.0049,\n",
      "         0.0444,  0.0254,  0.0040,  0.0438,  0.0167, -0.0021,  0.0217, -0.0326,\n",
      "        -0.0245, -0.0060,  0.0055, -0.0061, -0.0009,  0.0098, -0.0182, -0.0208,\n",
      "         0.0322,  0.0016, -0.0236, -0.0059, -0.0092, -0.0216, -0.0339,  0.0182,\n",
      "        -0.0204,  0.0166, -0.0177, -0.0086, -0.0444, -0.0117,  0.0432,  0.0234,\n",
      "         0.0103,  0.0066, -0.0099,  0.0134,  0.0258,  0.0059,  0.0227, -0.0143,\n",
      "         0.0089,  0.0064, -0.0173,  0.0212,  0.0040, -0.0434,  0.0132,  0.0340,\n",
      "         0.0168, -0.0291,  0.0336,  0.0365,  0.0236,  0.0436, -0.0342, -0.0102,\n",
      "         0.0237,  0.0151, -0.0345,  0.0261,  0.0311,  0.0277, -0.0050,  0.0302,\n",
      "        -0.0286, -0.0066,  0.0010, -0.0450,  0.0191,  0.0167, -0.0004, -0.0386,\n",
      "         0.0084,  0.0142, -0.0131,  0.0295, -0.0533, -0.0015, -0.0163, -0.0123,\n",
      "         0.0159,  0.0451, -0.0528,  0.0047, -0.0164, -0.0186, -0.0162,  0.0263,\n",
      "        -0.0321, -0.0077,  0.0209, -0.0132, -0.0067, -0.0234,  0.0060, -0.0152,\n",
      "         0.0104, -0.0218,  0.0362, -0.0161, -0.0145,  0.0070, -0.0292,  0.0216,\n",
      "        -0.0162,  0.0110, -0.0167, -0.0230, -0.0257,  0.0267, -0.0130,  0.0186,\n",
      "         0.0328,  0.0066,  0.0298, -0.0240, -0.0410,  0.0105, -0.0287, -0.0404,\n",
      "        -0.0033,  0.0029,  0.0083, -0.0235,  0.0115, -0.0069,  0.0032,  0.0209,\n",
      "         0.0166, -0.0294, -0.0123, -0.0208, -0.0336,  0.0166, -0.0369, -0.0444,\n",
      "        -0.0439,  0.0284,  0.0403, -0.0378,  0.0096,  0.0002, -0.0386,  0.0138,\n",
      "         0.0348,  0.0087, -0.0423,  0.0258,  0.0241,  0.0206,  0.0170,  0.0012,\n",
      "        -0.0180, -0.0290,  0.0229,  0.0102,  0.0212, -0.0155, -0.0264, -0.0181,\n",
      "        -0.0097,  0.0200,  0.0266, -0.0054,  0.0445,  0.0428,  0.0399, -0.0026,\n",
      "         0.0328, -0.0014, -0.0123,  0.0005,  0.0167, -0.0135, -0.0045,  0.0125,\n",
      "        -0.0090, -0.0206,  0.0112, -0.0031, -0.0226,  0.0121, -0.0125,  0.0023,\n",
      "         0.0290,  0.0257, -0.0227,  0.0165, -0.0313, -0.0172, -0.0022,  0.0088,\n",
      "         0.0125,  0.0434, -0.0220, -0.0142, -0.0025,  0.0413, -0.0145, -0.0343,\n",
      "         0.0085, -0.0197,  0.0384,  0.0023,  0.0230, -0.0410, -0.0061, -0.0125,\n",
      "        -0.0118, -0.0215,  0.0022,  0.0352,  0.0126, -0.0409, -0.0253, -0.0061,\n",
      "         0.0130, -0.0330,  0.0467,  0.0381,  0.0187, -0.0015, -0.0228,  0.0047,\n",
      "        -0.0040,  0.0231,  0.0425,  0.0133,  0.0057, -0.0008,  0.0147, -0.0355,\n",
      "         0.0200,  0.0237,  0.0208, -0.0012, -0.0109,  0.0375, -0.0427,  0.0080,\n",
      "        -0.0058, -0.0230,  0.0147,  0.0211, -0.0230,  0.0187,  0.0004, -0.0335,\n",
      "         0.0147,  0.0256,  0.0302, -0.0076,  0.0007,  0.0381,  0.0128,  0.0098,\n",
      "        -0.0118,  0.0037, -0.0125,  0.0121, -0.0221, -0.0159,  0.0322,  0.0170,\n",
      "        -0.0364,  0.0166, -0.0350, -0.0210, -0.0187, -0.0176,  0.0192, -0.0577,\n",
      "         0.0247, -0.0146,  0.0464,  0.0184,  0.0171,  0.0410,  0.0273, -0.0403,\n",
      "         0.0138,  0.0142, -0.0055, -0.0011, -0.0129,  0.0189,  0.0028,  0.0300,\n",
      "         0.0192, -0.0391, -0.0019, -0.0172, -0.0056, -0.0326, -0.0069,  0.0410,\n",
      "        -0.0223, -0.0438, -0.0179,  0.0288, -0.0124, -0.0206,  0.0110, -0.0073,\n",
      "         0.0271,  0.0156,  0.0268,  0.0110,  0.0262, -0.0005,  0.0012,  0.0335,\n",
      "         0.0121, -0.0024,  0.0091, -0.0030, -0.0103,  0.0108,  0.0216, -0.0189,\n",
      "        -0.0447,  0.0109,  0.0234,  0.0171, -0.0155,  0.0372,  0.0219, -0.0086,\n",
      "         0.0371,  0.0414,  0.0268,  0.0165, -0.0280, -0.0044,  0.0530, -0.0581,\n",
      "        -0.0338, -0.0261,  0.0027, -0.0398, -0.0013,  0.0190, -0.0448,  0.0178,\n",
      "         0.0251, -0.0195, -0.0264,  0.0404, -0.0009, -0.0015,  0.0330, -0.0011,\n",
      "         0.0247, -0.0369, -0.0217,  0.0013, -0.0436,  0.0205,  0.0258, -0.0120,\n",
      "         0.0065, -0.0089,  0.0228,  0.0309,  0.0004, -0.0302,  0.0148,  0.0100,\n",
      "         0.0294,  0.0098,  0.0184,  0.0234, -0.0496,  0.0114, -0.0267, -0.0095,\n",
      "         0.0087, -0.0377,  0.0232,  0.0214,  0.0153, -0.0423, -0.0225,  0.0105],\n",
      "       device='cuda:0')), ('layer1.2.weight', tensor([[ 0.0572, -0.0077, -0.0856,  ...,  0.1070, -0.0921,  0.0334],\n",
      "        [-0.0691,  0.1004,  0.1267,  ...,  0.0040, -0.0445, -0.0590],\n",
      "        [ 0.0398,  0.0539, -0.0213,  ..., -0.0581, -0.0042, -0.0345],\n",
      "        ...,\n",
      "        [-0.1566, -0.0111,  0.0115,  ...,  0.0479, -0.0008, -0.0993],\n",
      "        [ 0.0038, -0.0864, -0.0073,  ...,  0.0895,  0.0303,  0.0132],\n",
      "        [-0.0322, -0.0504, -0.0249,  ...,  0.0232,  0.0499, -0.0548]],\n",
      "       device='cuda:0')), ('layer1.2.bias', tensor([-0.1213,  0.1307, -0.0269, -0.0391, -0.0053,  0.1203, -0.0479,  0.0869,\n",
      "        -0.1962, -0.0604], device='cuda:0'))]) \n",
      "\n"
     ]
    }
   ],
   "source": [
    "print(f'모델 파라미터 형태 파악: \\n {model_0.state_dict()} \\n')"
   ]
  },
  {
   "cell_type": "code",
   "execution_count": 9,
   "metadata": {},
   "outputs": [
    {
     "name": "stdout",
     "output_type": "stream",
     "text": [
      "모델 파라미터 layer1.1의 가중치:\n",
      "  tensor([[ 0.0117,  0.0016,  0.0142,  ..., -0.0139, -0.0350,  0.0170],\n",
      "        [-0.0125, -0.0188,  0.0055,  ..., -0.0262,  0.0243,  0.0184],\n",
      "        [ 0.0320,  0.0021, -0.0229,  ...,  0.0046, -0.0142,  0.0036],\n",
      "        ...,\n",
      "        [ 0.0126,  0.0167, -0.0036,  ...,  0.0321, -0.0293,  0.0294],\n",
      "        [-0.0259, -0.0299, -0.0189,  ...,  0.0051,  0.0158,  0.0145],\n",
      "        [-0.0122,  0.0161,  0.0320,  ...,  0.0022, -0.0033, -0.0291]],\n",
      "       device='cuda:0')\n",
      "가중치의 길이:  512\n",
      "모델의 bias:\n",
      "  tensor([-0.0292,  0.0466,  0.0443,  0.0199,  0.0113, -0.0057, -0.0330,  0.0150,\n",
      "        -0.0285, -0.0171,  0.0297,  0.0165, -0.0073,  0.0199, -0.0188,  0.0220,\n",
      "         0.0303, -0.0014, -0.0268, -0.0112,  0.0126, -0.0215,  0.0210, -0.0295,\n",
      "        -0.0287, -0.0041,  0.0185, -0.0285, -0.0109, -0.0242,  0.0211, -0.0078,\n",
      "        -0.0331, -0.0070,  0.0057,  0.0162,  0.0156,  0.0159, -0.0136, -0.0046,\n",
      "        -0.0012,  0.0197, -0.0205, -0.0137,  0.0076,  0.0103,  0.0187,  0.0154,\n",
      "        -0.0380, -0.0047, -0.0258,  0.0341,  0.0467, -0.0008,  0.0282, -0.0357,\n",
      "         0.0062,  0.0417,  0.0504,  0.0138,  0.0034, -0.0173,  0.0201, -0.0130,\n",
      "         0.0025, -0.0479,  0.0271,  0.0330, -0.0002,  0.0219, -0.0171, -0.0409,\n",
      "        -0.0035, -0.0102,  0.0367, -0.0048,  0.0026, -0.0056,  0.0008,  0.0089,\n",
      "         0.0174, -0.0065, -0.0058,  0.0193, -0.0524,  0.0149, -0.0047,  0.0206,\n",
      "         0.0160, -0.0026,  0.0137,  0.0371,  0.0270,  0.0217, -0.0227,  0.0285,\n",
      "        -0.0039, -0.0033,  0.0165,  0.0167, -0.0148, -0.0063,  0.0094,  0.0437,\n",
      "        -0.0356,  0.0430, -0.0285, -0.0168,  0.0051, -0.0385,  0.0095,  0.0076,\n",
      "         0.0425, -0.0402, -0.0203,  0.0107,  0.0208,  0.0075, -0.0221, -0.0170,\n",
      "         0.0165,  0.0238,  0.0144,  0.0101,  0.0129, -0.0414,  0.0048,  0.0049,\n",
      "         0.0444,  0.0254,  0.0040,  0.0438,  0.0167, -0.0021,  0.0217, -0.0326,\n",
      "        -0.0245, -0.0060,  0.0055, -0.0061, -0.0009,  0.0098, -0.0182, -0.0208,\n",
      "         0.0322,  0.0016, -0.0236, -0.0059, -0.0092, -0.0216, -0.0339,  0.0182,\n",
      "        -0.0204,  0.0166, -0.0177, -0.0086, -0.0444, -0.0117,  0.0432,  0.0234,\n",
      "         0.0103,  0.0066, -0.0099,  0.0134,  0.0258,  0.0059,  0.0227, -0.0143,\n",
      "         0.0089,  0.0064, -0.0173,  0.0212,  0.0040, -0.0434,  0.0132,  0.0340,\n",
      "         0.0168, -0.0291,  0.0336,  0.0365,  0.0236,  0.0436, -0.0342, -0.0102,\n",
      "         0.0237,  0.0151, -0.0345,  0.0261,  0.0311,  0.0277, -0.0050,  0.0302,\n",
      "        -0.0286, -0.0066,  0.0010, -0.0450,  0.0191,  0.0167, -0.0004, -0.0386,\n",
      "         0.0084,  0.0142, -0.0131,  0.0295, -0.0533, -0.0015, -0.0163, -0.0123,\n",
      "         0.0159,  0.0451, -0.0528,  0.0047, -0.0164, -0.0186, -0.0162,  0.0263,\n",
      "        -0.0321, -0.0077,  0.0209, -0.0132, -0.0067, -0.0234,  0.0060, -0.0152,\n",
      "         0.0104, -0.0218,  0.0362, -0.0161, -0.0145,  0.0070, -0.0292,  0.0216,\n",
      "        -0.0162,  0.0110, -0.0167, -0.0230, -0.0257,  0.0267, -0.0130,  0.0186,\n",
      "         0.0328,  0.0066,  0.0298, -0.0240, -0.0410,  0.0105, -0.0287, -0.0404,\n",
      "        -0.0033,  0.0029,  0.0083, -0.0235,  0.0115, -0.0069,  0.0032,  0.0209,\n",
      "         0.0166, -0.0294, -0.0123, -0.0208, -0.0336,  0.0166, -0.0369, -0.0444,\n",
      "        -0.0439,  0.0284,  0.0403, -0.0378,  0.0096,  0.0002, -0.0386,  0.0138,\n",
      "         0.0348,  0.0087, -0.0423,  0.0258,  0.0241,  0.0206,  0.0170,  0.0012,\n",
      "        -0.0180, -0.0290,  0.0229,  0.0102,  0.0212, -0.0155, -0.0264, -0.0181,\n",
      "        -0.0097,  0.0200,  0.0266, -0.0054,  0.0445,  0.0428,  0.0399, -0.0026,\n",
      "         0.0328, -0.0014, -0.0123,  0.0005,  0.0167, -0.0135, -0.0045,  0.0125,\n",
      "        -0.0090, -0.0206,  0.0112, -0.0031, -0.0226,  0.0121, -0.0125,  0.0023,\n",
      "         0.0290,  0.0257, -0.0227,  0.0165, -0.0313, -0.0172, -0.0022,  0.0088,\n",
      "         0.0125,  0.0434, -0.0220, -0.0142, -0.0025,  0.0413, -0.0145, -0.0343,\n",
      "         0.0085, -0.0197,  0.0384,  0.0023,  0.0230, -0.0410, -0.0061, -0.0125,\n",
      "        -0.0118, -0.0215,  0.0022,  0.0352,  0.0126, -0.0409, -0.0253, -0.0061,\n",
      "         0.0130, -0.0330,  0.0467,  0.0381,  0.0187, -0.0015, -0.0228,  0.0047,\n",
      "        -0.0040,  0.0231,  0.0425,  0.0133,  0.0057, -0.0008,  0.0147, -0.0355,\n",
      "         0.0200,  0.0237,  0.0208, -0.0012, -0.0109,  0.0375, -0.0427,  0.0080,\n",
      "        -0.0058, -0.0230,  0.0147,  0.0211, -0.0230,  0.0187,  0.0004, -0.0335,\n",
      "         0.0147,  0.0256,  0.0302, -0.0076,  0.0007,  0.0381,  0.0128,  0.0098,\n",
      "        -0.0118,  0.0037, -0.0125,  0.0121, -0.0221, -0.0159,  0.0322,  0.0170,\n",
      "        -0.0364,  0.0166, -0.0350, -0.0210, -0.0187, -0.0176,  0.0192, -0.0577,\n",
      "         0.0247, -0.0146,  0.0464,  0.0184,  0.0171,  0.0410,  0.0273, -0.0403,\n",
      "         0.0138,  0.0142, -0.0055, -0.0011, -0.0129,  0.0189,  0.0028,  0.0300,\n",
      "         0.0192, -0.0391, -0.0019, -0.0172, -0.0056, -0.0326, -0.0069,  0.0410,\n",
      "        -0.0223, -0.0438, -0.0179,  0.0288, -0.0124, -0.0206,  0.0110, -0.0073,\n",
      "         0.0271,  0.0156,  0.0268,  0.0110,  0.0262, -0.0005,  0.0012,  0.0335,\n",
      "         0.0121, -0.0024,  0.0091, -0.0030, -0.0103,  0.0108,  0.0216, -0.0189,\n",
      "        -0.0447,  0.0109,  0.0234,  0.0171, -0.0155,  0.0372,  0.0219, -0.0086,\n",
      "         0.0371,  0.0414,  0.0268,  0.0165, -0.0280, -0.0044,  0.0530, -0.0581,\n",
      "        -0.0338, -0.0261,  0.0027, -0.0398, -0.0013,  0.0190, -0.0448,  0.0178,\n",
      "         0.0251, -0.0195, -0.0264,  0.0404, -0.0009, -0.0015,  0.0330, -0.0011,\n",
      "         0.0247, -0.0369, -0.0217,  0.0013, -0.0436,  0.0205,  0.0258, -0.0120,\n",
      "         0.0065, -0.0089,  0.0228,  0.0309,  0.0004, -0.0302,  0.0148,  0.0100,\n",
      "         0.0294,  0.0098,  0.0184,  0.0234, -0.0496,  0.0114, -0.0267, -0.0095,\n",
      "         0.0087, -0.0377,  0.0232,  0.0214,  0.0153, -0.0423, -0.0225,  0.0105],\n",
      "       device='cuda:0')\n",
      "bias의 길이:  512\n",
      "bias의 길이:  10\n"
     ]
    }
   ],
   "source": [
    "print(f'모델 파라미터 layer1.1의 가중치:\\n ',model_0.state_dict()['layer1.1.weight'])\n",
    "print(f'가중치의 길이: ',len(model_0.state_dict()['layer1.1.weight'])) # 히든 레이어의 hidden unit이 512개 ( 512개의 노드 )\n",
    "print(f'모델의 bias:\\n ',model_0.state_dict()['layer1.1.bias'])\n",
    "print('bias의 길이: ',len(model_0.state_dict()['layer1.1.bias'])) # 512개\n",
    "print('bias의 길이: ',len(model_0.state_dict()['layer1.2.bias'])) # 출력 10개"
   ]
  },
  {
   "cell_type": "markdown",
   "metadata": {},
   "source": [
    "다음 파라미터들이 93.5 퍼센트 정확도를 가지고 MNIST (숫자를 분류할 수 있다.) \n",
    "\n",
    "다음 모델은\n",
    "\n",
    "512개의 hidden units을 지닌 1개의 히든 레이어로 구성되어 있으며\n",
    "\n",
    "출력은 10개 (0,1,2,3,4,5,6,7,8,9)를 분류하는 분류기를 지닌다.\n",
    "\n",
    "우리가 흔히 얘기하는 다중 퍼셉트론, 딥러닝의 형태의 모델은 아니지만, 성능이 준수하게 나왔으며,\n",
    "\n",
    "흔히 사용하는 ReLU 비선형 함수를 포함시키지 않아도 분류를 잘하는 모습을 보인다."
   ]
  },
  {
   "cell_type": "code",
   "execution_count": 10,
   "metadata": {},
   "outputs": [
    {
     "name": "stdout",
     "output_type": "stream",
     "text": [
      "Saving model to : models\\model_0.pth\n"
     ]
    }
   ],
   "source": [
    "from pathlib import Path  # 파일 경로 작성하기 다루기에 대한 python 모듈\n",
    "\n",
    "# 1. Create models directory (모델 디렉토리 생성) 수작업으로 이제 폴더를 생성을 할 수 있지만 코딩으로도 된다.\n",
    "MODEL_PATH = Path(\"models\")\n",
    "MODEL_PATH.mkdir(parents=True,exist_ok=True)\n",
    "\n",
    "# 2. Create model save path\n",
    "MODEL_NAME=\"model_0.pth\" #모델 저장은 pt, pth 형태로 저장\n",
    "MODEL_SAVE_PATH=MODEL_PATH / MODEL_NAME\n",
    "MODEL_SAVE_PATH\n",
    "\n",
    "# 3. Save the model state dict\n",
    "print(f\"Saving model to : {MODEL_SAVE_PATH}\")\n",
    "torch.save(obj=model_0.state_dict(),\n",
    "           f=MODEL_SAVE_PATH)\n",
    "     "
   ]
  },
  {
   "cell_type": "markdown",
   "metadata": {},
   "source": [
    "# 모델 Load 해보기"
   ]
  },
  {
   "cell_type": "code",
   "execution_count": 11,
   "metadata": {},
   "outputs": [
    {
     "name": "stdout",
     "output_type": "stream",
     "text": [
      "OrderedDict([('layer1.1.weight', tensor([[-0.0302,  0.0129, -0.0309,  ...,  0.0250,  0.0263, -0.0029],\n",
      "        [-0.0119,  0.0354, -0.0139,  ..., -0.0174,  0.0019, -0.0146],\n",
      "        [-0.0277, -0.0230,  0.0164,  ...,  0.0318, -0.0174, -0.0194],\n",
      "        ...,\n",
      "        [ 0.0339, -0.0182,  0.0261,  ...,  0.0225, -0.0334, -0.0165],\n",
      "        [-0.0251, -0.0084,  0.0087,  ..., -0.0262, -0.0284,  0.0130],\n",
      "        [-0.0263, -0.0279, -0.0092,  ..., -0.0287, -0.0316, -0.0123]])), ('layer1.1.bias', tensor([ 1.7798e-02,  2.0927e-02, -7.2115e-03,  3.7883e-03, -5.8937e-03,\n",
      "         1.5831e-02, -1.7207e-02, -1.1167e-02, -1.1338e-02,  1.4022e-02,\n",
      "         3.5550e-02,  5.9875e-03, -2.4549e-02,  2.5536e-02, -3.0739e-02,\n",
      "         5.2124e-03, -1.6033e-02, -7.2976e-03,  2.6999e-02,  9.9701e-03,\n",
      "         2.4762e-02, -2.1565e-02, -2.1239e-02, -1.1181e-02, -2.6392e-02,\n",
      "         2.9228e-02, -2.5067e-02,  1.9171e-02, -2.4356e-02, -5.6210e-03,\n",
      "         2.6711e-02, -1.7384e-02,  1.8059e-02,  2.3861e-02, -1.4982e-02,\n",
      "        -6.2359e-04,  3.2199e-02, -1.8189e-02, -1.1566e-02, -3.5123e-04,\n",
      "        -4.4692e-03, -1.9355e-02,  3.2852e-02, -2.0254e-02, -3.0209e-02,\n",
      "        -2.0177e-02, -1.7618e-02, -6.9625e-04, -1.5700e-02,  2.1204e-02,\n",
      "         2.9047e-03,  3.2917e-02, -6.0173e-03, -1.3833e-02, -3.2732e-02,\n",
      "        -2.5108e-02,  2.3628e-02,  3.3149e-02,  7.7946e-03, -3.0319e-02,\n",
      "        -2.0888e-02, -1.8920e-02,  3.0251e-02, -3.0171e-02,  4.7995e-03,\n",
      "         2.0370e-02, -1.2074e-02, -2.3448e-02, -2.7055e-02,  5.7758e-03,\n",
      "        -1.7235e-02,  2.0671e-02,  3.2448e-02, -1.5431e-02, -3.3854e-02,\n",
      "         1.8553e-02,  5.8975e-04, -3.4162e-02,  2.1934e-02,  1.3787e-02,\n",
      "        -2.1121e-02,  1.6642e-02,  3.2535e-02, -4.0140e-03, -1.9871e-02,\n",
      "         1.0352e-02, -3.2275e-02, -2.5082e-02,  9.8839e-03,  2.8255e-02,\n",
      "        -1.2354e-02, -4.3714e-03, -1.0922e-02,  3.1987e-02, -8.3109e-03,\n",
      "         3.4473e-02,  2.1634e-02,  2.3178e-03, -1.7855e-02,  1.4073e-02,\n",
      "         3.8416e-04,  2.6187e-02,  5.2488e-03,  5.1355e-03,  2.9465e-02,\n",
      "        -2.2110e-02, -1.2579e-03, -2.9898e-02,  2.6744e-02, -2.2433e-02,\n",
      "        -1.1366e-02,  3.4770e-02,  2.4741e-02,  5.7012e-03,  2.1319e-02,\n",
      "        -1.8161e-02,  3.1012e-02, -1.9941e-02, -1.1195e-02,  2.0413e-02,\n",
      "        -3.4116e-02,  2.8804e-02, -2.9001e-02, -3.2881e-02, -3.3776e-02,\n",
      "         2.2086e-02, -2.9016e-02,  3.1284e-02, -3.5363e-03,  1.9716e-02,\n",
      "         2.7105e-02, -1.0591e-02, -1.5917e-02, -2.2361e-02,  1.9354e-02,\n",
      "        -7.3541e-03, -2.3981e-02, -1.3939e-02,  2.3293e-02,  1.9036e-02,\n",
      "        -2.1711e-02, -1.6945e-02,  1.6140e-02, -2.2174e-02, -3.5255e-02,\n",
      "         1.4818e-02,  1.7811e-02,  1.5642e-02,  2.3474e-02, -2.1833e-03,\n",
      "         1.7315e-03, -3.5635e-02,  1.7575e-02,  6.7645e-03,  2.5039e-02,\n",
      "         2.6992e-02,  1.6258e-02,  2.7731e-02,  2.4918e-02,  1.4432e-02,\n",
      "         1.3861e-02, -8.1721e-03,  1.1830e-02,  1.4936e-02, -3.5150e-02,\n",
      "         2.1891e-02,  2.0127e-02,  9.4954e-05, -2.3544e-02,  1.6497e-02,\n",
      "        -7.6477e-03,  6.2170e-03, -2.1288e-02, -9.2795e-03, -3.1245e-02,\n",
      "         1.6219e-02,  1.3418e-02, -2.1758e-02, -1.3687e-02, -1.3314e-02,\n",
      "        -2.0769e-02,  4.5913e-03,  3.0601e-02, -3.2432e-02,  8.0322e-03,\n",
      "        -7.2876e-03,  3.5170e-02, -3.2413e-02, -2.6359e-02,  2.4888e-02,\n",
      "        -1.3807e-02, -3.2374e-02, -2.7915e-02,  1.4801e-02,  3.0687e-02,\n",
      "         3.0818e-02, -1.7280e-03, -1.5602e-02,  2.6190e-02, -2.6902e-03,\n",
      "        -2.1383e-02, -1.9934e-02,  7.1774e-03,  6.2955e-03,  6.9812e-03,\n",
      "        -2.2990e-02, -3.4787e-02,  4.9855e-03,  1.1111e-02,  2.3044e-02,\n",
      "        -1.7158e-02, -2.2140e-02, -2.5584e-02,  2.4820e-02,  1.1993e-02,\n",
      "         2.0814e-02,  3.4965e-02,  2.1959e-02,  5.1955e-03,  5.1274e-03,\n",
      "         2.6263e-02,  6.1627e-03, -2.8918e-02, -1.2738e-02,  1.0574e-02,\n",
      "        -1.7565e-02, -2.1576e-02, -1.6310e-02, -2.3028e-02,  2.4582e-02,\n",
      "         7.5633e-03,  3.4608e-02, -1.1960e-02, -6.9486e-03, -6.3398e-03,\n",
      "         2.6842e-02, -1.7633e-02, -6.0803e-03, -3.3310e-02,  1.2634e-02,\n",
      "         1.0173e-02,  3.0079e-02, -1.1985e-02, -1.1065e-02, -1.6809e-02,\n",
      "         2.8888e-03, -2.6936e-02,  1.0735e-02,  1.3903e-02, -1.7275e-02,\n",
      "         7.6534e-03,  2.6411e-02, -3.1941e-03,  1.9600e-02,  1.2771e-02,\n",
      "        -9.7105e-03, -3.3162e-02, -3.2181e-03, -2.7691e-02,  1.0262e-02,\n",
      "        -4.7930e-03,  3.4146e-02,  5.3610e-03, -1.0135e-02,  3.4847e-02,\n",
      "         2.3210e-02, -1.9903e-03, -1.3374e-04, -3.1869e-02,  1.8510e-02,\n",
      "        -1.6110e-02, -4.2138e-03,  3.0526e-02, -1.7538e-02, -3.0912e-02,\n",
      "         3.4087e-02,  2.9650e-02, -4.1641e-03, -3.1639e-03, -2.5296e-02,\n",
      "        -2.6894e-02, -1.6431e-02,  2.7375e-02, -2.5551e-02,  2.1088e-02,\n",
      "        -1.6700e-02, -1.3941e-02, -9.6161e-04,  1.6874e-02, -2.4062e-02,\n",
      "         1.9854e-02,  2.1734e-02, -2.7673e-02,  7.6210e-03,  9.0171e-03,\n",
      "         1.9103e-02, -1.8301e-02,  2.3143e-02, -2.8684e-02,  2.3024e-02,\n",
      "         2.9571e-02,  1.5105e-02, -1.6384e-02,  1.1974e-02, -9.2828e-03,\n",
      "        -2.4910e-02, -3.1329e-02, -4.6427e-04, -2.5361e-02, -7.5697e-03,\n",
      "         6.2750e-03, -4.4620e-03,  2.0294e-02,  3.5634e-02, -1.4600e-02,\n",
      "         7.4193e-03, -6.7589e-03,  3.8779e-03, -2.2392e-02,  3.4419e-02,\n",
      "         2.6667e-02, -3.3499e-02, -1.5050e-02, -1.5920e-02,  2.9451e-02,\n",
      "         2.2580e-02, -9.6500e-03, -2.6836e-02, -7.1689e-03,  2.7982e-02,\n",
      "        -2.8082e-02, -1.7755e-02, -3.3607e-02, -3.3710e-04,  2.4751e-02,\n",
      "        -1.1452e-02,  1.0920e-02, -2.8534e-02, -4.8242e-03, -3.2602e-02,\n",
      "        -2.8047e-02,  3.1624e-02,  2.0572e-02,  2.7032e-03,  3.1804e-02,\n",
      "         5.5541e-03,  2.4683e-02,  3.1065e-02,  1.5316e-02,  7.3199e-03,\n",
      "        -9.9098e-03, -2.6317e-02, -3.0986e-02, -3.1336e-02,  2.2564e-02,\n",
      "         2.2041e-02,  3.1180e-02, -1.8301e-02, -1.0021e-02,  1.4623e-02,\n",
      "         3.4529e-02,  2.5094e-02, -2.9333e-02, -1.4981e-02,  1.2133e-02,\n",
      "         1.0771e-02, -3.3765e-02, -2.9786e-02, -7.4421e-03, -1.1719e-03,\n",
      "        -3.1257e-02,  1.7150e-03, -1.0954e-02, -2.8055e-02, -2.9527e-02,\n",
      "         1.0180e-02,  2.7295e-02,  2.3342e-02,  3.4981e-02,  1.5248e-02,\n",
      "        -2.8115e-02, -2.0910e-02, -2.8416e-02,  2.2284e-03, -2.8711e-02,\n",
      "        -2.2626e-02,  3.0276e-02, -2.9316e-02,  2.4328e-02,  2.6875e-02,\n",
      "        -2.9831e-02,  3.1986e-02,  3.3015e-02,  1.6833e-02,  2.3303e-02,\n",
      "        -1.3781e-02, -8.4956e-03,  4.3109e-03, -7.8412e-03,  3.0494e-02,\n",
      "        -6.9804e-03,  1.8524e-02,  3.9618e-03,  3.5302e-02,  1.7181e-02,\n",
      "         1.3698e-02, -4.9097e-03,  2.9447e-02, -3.4264e-02,  1.0150e-02,\n",
      "        -1.8446e-02, -2.6887e-04, -2.3537e-02, -2.1739e-02, -1.5501e-02,\n",
      "        -2.1707e-03, -6.0666e-03, -2.1139e-02, -3.1609e-02,  2.5916e-02,\n",
      "        -1.9324e-02,  2.2206e-02, -8.8982e-03, -4.3282e-03, -2.1810e-02,\n",
      "         1.7987e-02,  6.0252e-03,  3.1980e-02,  2.2071e-02, -3.3993e-02,\n",
      "         2.9945e-02,  2.7820e-02, -1.2124e-02, -9.9653e-03, -1.2220e-02,\n",
      "         3.5624e-02,  3.2492e-02,  9.5956e-03,  2.9933e-02,  3.5311e-02,\n",
      "         2.6120e-02,  1.6471e-02,  1.9353e-02,  2.3434e-02,  8.0474e-03,\n",
      "         2.3135e-02,  2.1921e-02, -1.5702e-02, -1.3595e-02, -2.8592e-03,\n",
      "         2.0031e-02, -2.8092e-02,  4.4223e-05, -3.5524e-03, -1.8467e-02,\n",
      "        -1.9008e-02,  8.6900e-03, -1.1315e-02, -1.8315e-02,  2.3508e-02,\n",
      "        -1.6683e-02,  1.1233e-03,  6.7266e-03, -2.1115e-02, -2.4287e-02,\n",
      "        -2.3796e-02, -3.2234e-02,  2.8192e-03, -5.6691e-03, -3.4079e-02,\n",
      "        -2.3746e-03, -3.5537e-02,  2.1580e-02,  2.2659e-02,  1.9262e-02,\n",
      "         8.0153e-03,  8.3035e-03,  2.2193e-02,  1.5001e-03,  1.1870e-02,\n",
      "        -3.0953e-02, -9.4403e-03, -5.0851e-03,  1.6774e-02,  1.5130e-03,\n",
      "        -2.3386e-02,  1.4461e-02,  1.3533e-02, -2.7299e-02,  2.1715e-02,\n",
      "         5.1436e-03, -3.5210e-02, -5.5424e-04, -2.3121e-02, -2.7476e-02,\n",
      "        -9.6015e-03,  1.8318e-03,  2.7368e-02, -2.1872e-02, -1.1417e-02,\n",
      "         1.6542e-02,  2.0389e-02,  2.7719e-02,  1.8906e-02,  2.8142e-02,\n",
      "        -7.3881e-03, -2.7962e-03, -3.4377e-02,  2.6146e-02, -1.9977e-02,\n",
      "         1.3628e-02, -9.5566e-03])), ('layer1.2.weight', tensor([[-0.0114,  0.0254, -0.0208,  ...,  0.0199, -0.0243,  0.0052],\n",
      "        [ 0.0128,  0.0041, -0.0206,  ...,  0.0011,  0.0277,  0.0436],\n",
      "        [-0.0409,  0.0408,  0.0013,  ..., -0.0382, -0.0321,  0.0052],\n",
      "        ...,\n",
      "        [ 0.0266,  0.0303, -0.0153,  ..., -0.0064, -0.0212, -0.0346],\n",
      "        [ 0.0026,  0.0394,  0.0090,  ...,  0.0392, -0.0310, -0.0287],\n",
      "        [ 0.0394, -0.0061, -0.0213,  ...,  0.0392, -0.0053,  0.0045]])), ('layer1.2.bias', tensor([-0.0014, -0.0395, -0.0117, -0.0202, -0.0421, -0.0097, -0.0324,  0.0434,\n",
      "         0.0388,  0.0146]))])\n"
     ]
    }
   ],
   "source": [
    "loaded_model_0 = MNISTModel(input_shape=28*28,hidden_units=512,output_shape=10)\n",
    "\n",
    "print(loaded_model_0.state_dict()) # 새로 랜덤하게 생성되는 Model.state_dict() 파라미터들"
   ]
  },
  {
   "cell_type": "markdown",
   "metadata": {},
   "source": [
    "저장되어 있는 Model_0.pth를 새로운 loaded_model_0에게 넣어준다."
   ]
  },
  {
   "cell_type": "code",
   "execution_count": 12,
   "metadata": {},
   "outputs": [
    {
     "name": "stdout",
     "output_type": "stream",
     "text": [
      "OrderedDict([('layer1.1.weight', tensor([[ 0.0117,  0.0016,  0.0142,  ..., -0.0139, -0.0350,  0.0170],\n",
      "        [-0.0125, -0.0188,  0.0055,  ..., -0.0262,  0.0243,  0.0184],\n",
      "        [ 0.0320,  0.0021, -0.0229,  ...,  0.0046, -0.0142,  0.0036],\n",
      "        ...,\n",
      "        [ 0.0126,  0.0167, -0.0036,  ...,  0.0321, -0.0293,  0.0294],\n",
      "        [-0.0259, -0.0299, -0.0189,  ...,  0.0051,  0.0158,  0.0145],\n",
      "        [-0.0122,  0.0161,  0.0320,  ...,  0.0022, -0.0033, -0.0291]])), ('layer1.1.bias', tensor([-0.0292,  0.0466,  0.0443,  0.0199,  0.0113, -0.0057, -0.0330,  0.0150,\n",
      "        -0.0285, -0.0171,  0.0297,  0.0165, -0.0073,  0.0199, -0.0188,  0.0220,\n",
      "         0.0303, -0.0014, -0.0268, -0.0112,  0.0126, -0.0215,  0.0210, -0.0295,\n",
      "        -0.0287, -0.0041,  0.0185, -0.0285, -0.0109, -0.0242,  0.0211, -0.0078,\n",
      "        -0.0331, -0.0070,  0.0057,  0.0162,  0.0156,  0.0159, -0.0136, -0.0046,\n",
      "        -0.0012,  0.0197, -0.0205, -0.0137,  0.0076,  0.0103,  0.0187,  0.0154,\n",
      "        -0.0380, -0.0047, -0.0258,  0.0341,  0.0467, -0.0008,  0.0282, -0.0357,\n",
      "         0.0062,  0.0417,  0.0504,  0.0138,  0.0034, -0.0173,  0.0201, -0.0130,\n",
      "         0.0025, -0.0479,  0.0271,  0.0330, -0.0002,  0.0219, -0.0171, -0.0409,\n",
      "        -0.0035, -0.0102,  0.0367, -0.0048,  0.0026, -0.0056,  0.0008,  0.0089,\n",
      "         0.0174, -0.0065, -0.0058,  0.0193, -0.0524,  0.0149, -0.0047,  0.0206,\n",
      "         0.0160, -0.0026,  0.0137,  0.0371,  0.0270,  0.0217, -0.0227,  0.0285,\n",
      "        -0.0039, -0.0033,  0.0165,  0.0167, -0.0148, -0.0063,  0.0094,  0.0437,\n",
      "        -0.0356,  0.0430, -0.0285, -0.0168,  0.0051, -0.0385,  0.0095,  0.0076,\n",
      "         0.0425, -0.0402, -0.0203,  0.0107,  0.0208,  0.0075, -0.0221, -0.0170,\n",
      "         0.0165,  0.0238,  0.0144,  0.0101,  0.0129, -0.0414,  0.0048,  0.0049,\n",
      "         0.0444,  0.0254,  0.0040,  0.0438,  0.0167, -0.0021,  0.0217, -0.0326,\n",
      "        -0.0245, -0.0060,  0.0055, -0.0061, -0.0009,  0.0098, -0.0182, -0.0208,\n",
      "         0.0322,  0.0016, -0.0236, -0.0059, -0.0092, -0.0216, -0.0339,  0.0182,\n",
      "        -0.0204,  0.0166, -0.0177, -0.0086, -0.0444, -0.0117,  0.0432,  0.0234,\n",
      "         0.0103,  0.0066, -0.0099,  0.0134,  0.0258,  0.0059,  0.0227, -0.0143,\n",
      "         0.0089,  0.0064, -0.0173,  0.0212,  0.0040, -0.0434,  0.0132,  0.0340,\n",
      "         0.0168, -0.0291,  0.0336,  0.0365,  0.0236,  0.0436, -0.0342, -0.0102,\n",
      "         0.0237,  0.0151, -0.0345,  0.0261,  0.0311,  0.0277, -0.0050,  0.0302,\n",
      "        -0.0286, -0.0066,  0.0010, -0.0450,  0.0191,  0.0167, -0.0004, -0.0386,\n",
      "         0.0084,  0.0142, -0.0131,  0.0295, -0.0533, -0.0015, -0.0163, -0.0123,\n",
      "         0.0159,  0.0451, -0.0528,  0.0047, -0.0164, -0.0186, -0.0162,  0.0263,\n",
      "        -0.0321, -0.0077,  0.0209, -0.0132, -0.0067, -0.0234,  0.0060, -0.0152,\n",
      "         0.0104, -0.0218,  0.0362, -0.0161, -0.0145,  0.0070, -0.0292,  0.0216,\n",
      "        -0.0162,  0.0110, -0.0167, -0.0230, -0.0257,  0.0267, -0.0130,  0.0186,\n",
      "         0.0328,  0.0066,  0.0298, -0.0240, -0.0410,  0.0105, -0.0287, -0.0404,\n",
      "        -0.0033,  0.0029,  0.0083, -0.0235,  0.0115, -0.0069,  0.0032,  0.0209,\n",
      "         0.0166, -0.0294, -0.0123, -0.0208, -0.0336,  0.0166, -0.0369, -0.0444,\n",
      "        -0.0439,  0.0284,  0.0403, -0.0378,  0.0096,  0.0002, -0.0386,  0.0138,\n",
      "         0.0348,  0.0087, -0.0423,  0.0258,  0.0241,  0.0206,  0.0170,  0.0012,\n",
      "        -0.0180, -0.0290,  0.0229,  0.0102,  0.0212, -0.0155, -0.0264, -0.0181,\n",
      "        -0.0097,  0.0200,  0.0266, -0.0054,  0.0445,  0.0428,  0.0399, -0.0026,\n",
      "         0.0328, -0.0014, -0.0123,  0.0005,  0.0167, -0.0135, -0.0045,  0.0125,\n",
      "        -0.0090, -0.0206,  0.0112, -0.0031, -0.0226,  0.0121, -0.0125,  0.0023,\n",
      "         0.0290,  0.0257, -0.0227,  0.0165, -0.0313, -0.0172, -0.0022,  0.0088,\n",
      "         0.0125,  0.0434, -0.0220, -0.0142, -0.0025,  0.0413, -0.0145, -0.0343,\n",
      "         0.0085, -0.0197,  0.0384,  0.0023,  0.0230, -0.0410, -0.0061, -0.0125,\n",
      "        -0.0118, -0.0215,  0.0022,  0.0352,  0.0126, -0.0409, -0.0253, -0.0061,\n",
      "         0.0130, -0.0330,  0.0467,  0.0381,  0.0187, -0.0015, -0.0228,  0.0047,\n",
      "        -0.0040,  0.0231,  0.0425,  0.0133,  0.0057, -0.0008,  0.0147, -0.0355,\n",
      "         0.0200,  0.0237,  0.0208, -0.0012, -0.0109,  0.0375, -0.0427,  0.0080,\n",
      "        -0.0058, -0.0230,  0.0147,  0.0211, -0.0230,  0.0187,  0.0004, -0.0335,\n",
      "         0.0147,  0.0256,  0.0302, -0.0076,  0.0007,  0.0381,  0.0128,  0.0098,\n",
      "        -0.0118,  0.0037, -0.0125,  0.0121, -0.0221, -0.0159,  0.0322,  0.0170,\n",
      "        -0.0364,  0.0166, -0.0350, -0.0210, -0.0187, -0.0176,  0.0192, -0.0577,\n",
      "         0.0247, -0.0146,  0.0464,  0.0184,  0.0171,  0.0410,  0.0273, -0.0403,\n",
      "         0.0138,  0.0142, -0.0055, -0.0011, -0.0129,  0.0189,  0.0028,  0.0300,\n",
      "         0.0192, -0.0391, -0.0019, -0.0172, -0.0056, -0.0326, -0.0069,  0.0410,\n",
      "        -0.0223, -0.0438, -0.0179,  0.0288, -0.0124, -0.0206,  0.0110, -0.0073,\n",
      "         0.0271,  0.0156,  0.0268,  0.0110,  0.0262, -0.0005,  0.0012,  0.0335,\n",
      "         0.0121, -0.0024,  0.0091, -0.0030, -0.0103,  0.0108,  0.0216, -0.0189,\n",
      "        -0.0447,  0.0109,  0.0234,  0.0171, -0.0155,  0.0372,  0.0219, -0.0086,\n",
      "         0.0371,  0.0414,  0.0268,  0.0165, -0.0280, -0.0044,  0.0530, -0.0581,\n",
      "        -0.0338, -0.0261,  0.0027, -0.0398, -0.0013,  0.0190, -0.0448,  0.0178,\n",
      "         0.0251, -0.0195, -0.0264,  0.0404, -0.0009, -0.0015,  0.0330, -0.0011,\n",
      "         0.0247, -0.0369, -0.0217,  0.0013, -0.0436,  0.0205,  0.0258, -0.0120,\n",
      "         0.0065, -0.0089,  0.0228,  0.0309,  0.0004, -0.0302,  0.0148,  0.0100,\n",
      "         0.0294,  0.0098,  0.0184,  0.0234, -0.0496,  0.0114, -0.0267, -0.0095,\n",
      "         0.0087, -0.0377,  0.0232,  0.0214,  0.0153, -0.0423, -0.0225,  0.0105])), ('layer1.2.weight', tensor([[ 0.0572, -0.0077, -0.0856,  ...,  0.1070, -0.0921,  0.0334],\n",
      "        [-0.0691,  0.1004,  0.1267,  ...,  0.0040, -0.0445, -0.0590],\n",
      "        [ 0.0398,  0.0539, -0.0213,  ..., -0.0581, -0.0042, -0.0345],\n",
      "        ...,\n",
      "        [-0.1566, -0.0111,  0.0115,  ...,  0.0479, -0.0008, -0.0993],\n",
      "        [ 0.0038, -0.0864, -0.0073,  ...,  0.0895,  0.0303,  0.0132],\n",
      "        [-0.0322, -0.0504, -0.0249,  ...,  0.0232,  0.0499, -0.0548]])), ('layer1.2.bias', tensor([-0.1213,  0.1307, -0.0269, -0.0391, -0.0053,  0.1203, -0.0479,  0.0869,\n",
      "        -0.1962, -0.0604]))])\n"
     ]
    }
   ],
   "source": [
    "loaded_model_0.load_state_dict(torch.load(MODEL_SAVE_PATH))\n",
    "print(loaded_model_0.state_dict())"
   ]
  },
  {
   "cell_type": "markdown",
   "metadata": {},
   "source": [
    "# 새롭게 load된 모델은 숫자3.jpg를 잘 인식할 수 있을까?"
   ]
  },
  {
   "cell_type": "code",
   "execution_count": 13,
   "metadata": {},
   "outputs": [],
   "source": [
    "from PIL.Image import open\n",
    "from torchvision.io import read_image \n",
    "from torchvision.transforms import Resize,Grayscale,Compose\n",
    "testing_image=read_image(r'C:\\Users\\hyssk\\Myopencv\\DeepLearningVision\\MNIST\\숫자3.jpg')\n",
    "transform=Compose([Resize((28,28)),Grayscale()])\n",
    "transformed_image=transform(testing_image)\n",
    "transformed_image=transformed_image/255\n"
   ]
  },
  {
   "cell_type": "code",
   "execution_count": 14,
   "metadata": {},
   "outputs": [
    {
     "data": {
      "image/png": "[encoded data removed]",
      "text/plain": [
       "<Figure size 640x480 with 1 Axes>"
      ]
     },
     "metadata": {},
     "output_type": "display_data"
    }
   ],
   "source": [
    "predict_number=loaded_model_0(transformed_image).argmax(dim=1) # loaded_model_0에 transformed 시킨 이미지를 입력함\n",
    "classes[predict_number] # 3-three라고 잘 인식한다.\n",
    "plt.figure()\n",
    "plt.imshow(transformed_image.permute(1,2,0),cmap='gray') # 숫자 3.jpg를 모델이 예측함.\n",
    "plt.title(f'Predict(모델이 예측한 정답: {classes[predict_number]}')\n",
    "plt.axis(False)\n",
    "plt.show()"
   ]
  }
 ],
 "metadata": {
  "kernelspec": {
   "display_name": "Opencv",
   "language": "python",
   "name": "python3"
  },
  "language_info": {
   "codemirror_mode": {
    "name": "ipython",
    "version": 3
   },
   "file_extension": ".py",
   "mimetype": "text/x-python",
   "name": "python",
   "nbconvert_exporter": "python",
   "pygments_lexer": "ipython3",
   "version": "3.7.16"
  }
 },
 "nbformat": 4,
 "nbformat_minor": 2
}
