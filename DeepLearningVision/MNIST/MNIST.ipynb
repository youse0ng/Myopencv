{
 "cells": [
  {
   "cell_type": "markdown",
   "metadata": {},
   "source": [
    "# 필요한 라이브러리 갖고 오기"
   ]
  },
  {
   "cell_type": "code",
   "execution_count": 7,
   "metadata": {},
   "outputs": [],
   "source": [
    "import torch\n",
    "import torch.nn\n",
    "from torchvision import datasets\n",
    "from torchvision import transforms\n",
    "from torch.utils.data import DataLoader\n",
    "import numpy as np\n",
    "import torch.optim\n",
    "from tqdm.auto import tqdm\n",
    "import matplotlib.pyplot as plt\n",
    "import os\n",
    "os.environ[\"KMP_DUPLICATE_LIB_OK\"]=\"TRUE\""
   ]
  },
  {
   "cell_type": "markdown",
   "metadata": {},
   "source": [
    "# MNIST 데이터셋 불러오기와 MINI_Batch를 위한 DataLoader 생성 (데이터 파이프라인)"
   ]
  },
  {
   "cell_type": "code",
   "execution_count": 8,
   "metadata": {},
   "outputs": [
    {
     "name": "stdout",
     "output_type": "stream",
     "text": [
      "train_data의 개수: 60000\n",
      "test_data의 개수: 10000\n",
      "train_data[0]: (tensor([[[0.0000, 0.0000, 0.0000, 0.0000, 0.0000, 0.0000, 0.0000, 0.0000,\n",
      "          0.0000, 0.0000, 0.0000, 0.0000, 0.0000, 0.0000, 0.0000, 0.0000,\n",
      "          0.0000, 0.0000, 0.0000, 0.0000, 0.0000, 0.0000, 0.0000, 0.0000,\n",
      "          0.0000, 0.0000, 0.0000, 0.0000],\n",
      "         [0.0000, 0.0000, 0.0000, 0.0000, 0.0000, 0.0000, 0.0000, 0.0000,\n",
      "          0.0000, 0.0000, 0.0000, 0.0000, 0.0000, 0.0000, 0.0000, 0.0000,\n",
      "          0.0000, 0.0000, 0.0000, 0.0000, 0.0000, 0.0000, 0.0000, 0.0000,\n",
      "          0.0000, 0.0000, 0.0000, 0.0000],\n",
      "         [0.0000, 0.0000, 0.0000, 0.0000, 0.0000, 0.0000, 0.0000, 0.0000,\n",
      "          0.0000, 0.0000, 0.0000, 0.0000, 0.0000, 0.0000, 0.0000, 0.0000,\n",
      "          0.0000, 0.0000, 0.0000, 0.0000, 0.0000, 0.0000, 0.0000, 0.0000,\n",
      "          0.0000, 0.0000, 0.0000, 0.0000],\n",
      "         [0.0000, 0.0000, 0.0000, 0.0000, 0.0000, 0.0000, 0.0000, 0.0000,\n",
      "          0.0000, 0.0000, 0.0000, 0.0000, 0.0000, 0.0000, 0.0000, 0.0000,\n",
      "          0.0000, 0.0000, 0.0000, 0.0000, 0.0000, 0.0000, 0.0000, 0.0000,\n",
      "          0.0000, 0.0000, 0.0000, 0.0000],\n",
      "         [0.0000, 0.0000, 0.0000, 0.0000, 0.0000, 0.0000, 0.0000, 0.0000,\n",
      "          0.0000, 0.0000, 0.0000, 0.0000, 0.0000, 0.0000, 0.0000, 0.0000,\n",
      "          0.0000, 0.0000, 0.0000, 0.0000, 0.0000, 0.0000, 0.0000, 0.0000,\n",
      "          0.0000, 0.0000, 0.0000, 0.0000],\n",
      "         [0.0000, 0.0000, 0.0000, 0.0000, 0.0000, 0.0000, 0.0000, 0.0000,\n",
      "          0.0000, 0.0000, 0.0000, 0.0000, 0.0118, 0.0706, 0.0706, 0.0706,\n",
      "          0.4941, 0.5333, 0.6863, 0.1020, 0.6510, 1.0000, 0.9686, 0.4980,\n",
      "          0.0000, 0.0000, 0.0000, 0.0000],\n",
      "         [0.0000, 0.0000, 0.0000, 0.0000, 0.0000, 0.0000, 0.0000, 0.0000,\n",
      "          0.1176, 0.1412, 0.3686, 0.6039, 0.6667, 0.9922, 0.9922, 0.9922,\n",
      "          0.9922, 0.9922, 0.8824, 0.6745, 0.9922, 0.9490, 0.7647, 0.2510,\n",
      "          0.0000, 0.0000, 0.0000, 0.0000],\n",
      "         [0.0000, 0.0000, 0.0000, 0.0000, 0.0000, 0.0000, 0.0000, 0.1922,\n",
      "          0.9333, 0.9922, 0.9922, 0.9922, 0.9922, 0.9922, 0.9922, 0.9922,\n",
      "          0.9922, 0.9843, 0.3647, 0.3216, 0.3216, 0.2196, 0.1529, 0.0000,\n",
      "          0.0000, 0.0000, 0.0000, 0.0000],\n",
      "         [0.0000, 0.0000, 0.0000, 0.0000, 0.0000, 0.0000, 0.0000, 0.0706,\n",
      "          0.8588, 0.9922, 0.9922, 0.9922, 0.9922, 0.9922, 0.7765, 0.7137,\n",
      "          0.9686, 0.9451, 0.0000, 0.0000, 0.0000, 0.0000, 0.0000, 0.0000,\n",
      "          0.0000, 0.0000, 0.0000, 0.0000],\n",
      "         [0.0000, 0.0000, 0.0000, 0.0000, 0.0000, 0.0000, 0.0000, 0.0000,\n",
      "          0.3137, 0.6118, 0.4196, 0.9922, 0.9922, 0.8039, 0.0431, 0.0000,\n",
      "          0.1686, 0.6039, 0.0000, 0.0000, 0.0000, 0.0000, 0.0000, 0.0000,\n",
      "          0.0000, 0.0000, 0.0000, 0.0000],\n",
      "         [0.0000, 0.0000, 0.0000, 0.0000, 0.0000, 0.0000, 0.0000, 0.0000,\n",
      "          0.0000, 0.0549, 0.0039, 0.6039, 0.9922, 0.3529, 0.0000, 0.0000,\n",
      "          0.0000, 0.0000, 0.0000, 0.0000, 0.0000, 0.0000, 0.0000, 0.0000,\n",
      "          0.0000, 0.0000, 0.0000, 0.0000],\n",
      "         [0.0000, 0.0000, 0.0000, 0.0000, 0.0000, 0.0000, 0.0000, 0.0000,\n",
      "          0.0000, 0.0000, 0.0000, 0.5451, 0.9922, 0.7451, 0.0078, 0.0000,\n",
      "          0.0000, 0.0000, 0.0000, 0.0000, 0.0000, 0.0000, 0.0000, 0.0000,\n",
      "          0.0000, 0.0000, 0.0000, 0.0000],\n",
      "         [0.0000, 0.0000, 0.0000, 0.0000, 0.0000, 0.0000, 0.0000, 0.0000,\n",
      "          0.0000, 0.0000, 0.0000, 0.0431, 0.7451, 0.9922, 0.2745, 0.0000,\n",
      "          0.0000, 0.0000, 0.0000, 0.0000, 0.0000, 0.0000, 0.0000, 0.0000,\n",
      "          0.0000, 0.0000, 0.0000, 0.0000],\n",
      "         [0.0000, 0.0000, 0.0000, 0.0000, 0.0000, 0.0000, 0.0000, 0.0000,\n",
      "          0.0000, 0.0000, 0.0000, 0.0000, 0.1373, 0.9451, 0.8824, 0.6275,\n",
      "          0.4235, 0.0039, 0.0000, 0.0000, 0.0000, 0.0000, 0.0000, 0.0000,\n",
      "          0.0000, 0.0000, 0.0000, 0.0000],\n",
      "         [0.0000, 0.0000, 0.0000, 0.0000, 0.0000, 0.0000, 0.0000, 0.0000,\n",
      "          0.0000, 0.0000, 0.0000, 0.0000, 0.0000, 0.3176, 0.9412, 0.9922,\n",
      "          0.9922, 0.4667, 0.0980, 0.0000, 0.0000, 0.0000, 0.0000, 0.0000,\n",
      "          0.0000, 0.0000, 0.0000, 0.0000],\n",
      "         [0.0000, 0.0000, 0.0000, 0.0000, 0.0000, 0.0000, 0.0000, 0.0000,\n",
      "          0.0000, 0.0000, 0.0000, 0.0000, 0.0000, 0.0000, 0.1765, 0.7294,\n",
      "          0.9922, 0.9922, 0.5882, 0.1059, 0.0000, 0.0000, 0.0000, 0.0000,\n",
      "          0.0000, 0.0000, 0.0000, 0.0000],\n",
      "         [0.0000, 0.0000, 0.0000, 0.0000, 0.0000, 0.0000, 0.0000, 0.0000,\n",
      "          0.0000, 0.0000, 0.0000, 0.0000, 0.0000, 0.0000, 0.0000, 0.0627,\n",
      "          0.3647, 0.9882, 0.9922, 0.7333, 0.0000, 0.0000, 0.0000, 0.0000,\n",
      "          0.0000, 0.0000, 0.0000, 0.0000],\n",
      "         [0.0000, 0.0000, 0.0000, 0.0000, 0.0000, 0.0000, 0.0000, 0.0000,\n",
      "          0.0000, 0.0000, 0.0000, 0.0000, 0.0000, 0.0000, 0.0000, 0.0000,\n",
      "          0.0000, 0.9765, 0.9922, 0.9765, 0.2510, 0.0000, 0.0000, 0.0000,\n",
      "          0.0000, 0.0000, 0.0000, 0.0000],\n",
      "         [0.0000, 0.0000, 0.0000, 0.0000, 0.0000, 0.0000, 0.0000, 0.0000,\n",
      "          0.0000, 0.0000, 0.0000, 0.0000, 0.0000, 0.0000, 0.1804, 0.5098,\n",
      "          0.7176, 0.9922, 0.9922, 0.8118, 0.0078, 0.0000, 0.0000, 0.0000,\n",
      "          0.0000, 0.0000, 0.0000, 0.0000],\n",
      "         [0.0000, 0.0000, 0.0000, 0.0000, 0.0000, 0.0000, 0.0000, 0.0000,\n",
      "          0.0000, 0.0000, 0.0000, 0.0000, 0.1529, 0.5804, 0.8980, 0.9922,\n",
      "          0.9922, 0.9922, 0.9804, 0.7137, 0.0000, 0.0000, 0.0000, 0.0000,\n",
      "          0.0000, 0.0000, 0.0000, 0.0000],\n",
      "         [0.0000, 0.0000, 0.0000, 0.0000, 0.0000, 0.0000, 0.0000, 0.0000,\n",
      "          0.0000, 0.0000, 0.0941, 0.4471, 0.8667, 0.9922, 0.9922, 0.9922,\n",
      "          0.9922, 0.7882, 0.3059, 0.0000, 0.0000, 0.0000, 0.0000, 0.0000,\n",
      "          0.0000, 0.0000, 0.0000, 0.0000],\n",
      "         [0.0000, 0.0000, 0.0000, 0.0000, 0.0000, 0.0000, 0.0000, 0.0000,\n",
      "          0.0902, 0.2588, 0.8353, 0.9922, 0.9922, 0.9922, 0.9922, 0.7765,\n",
      "          0.3176, 0.0078, 0.0000, 0.0000, 0.0000, 0.0000, 0.0000, 0.0000,\n",
      "          0.0000, 0.0000, 0.0000, 0.0000],\n",
      "         [0.0000, 0.0000, 0.0000, 0.0000, 0.0000, 0.0000, 0.0706, 0.6706,\n",
      "          0.8588, 0.9922, 0.9922, 0.9922, 0.9922, 0.7647, 0.3137, 0.0353,\n",
      "          0.0000, 0.0000, 0.0000, 0.0000, 0.0000, 0.0000, 0.0000, 0.0000,\n",
      "          0.0000, 0.0000, 0.0000, 0.0000],\n",
      "         [0.0000, 0.0000, 0.0000, 0.0000, 0.2157, 0.6745, 0.8863, 0.9922,\n",
      "          0.9922, 0.9922, 0.9922, 0.9569, 0.5216, 0.0431, 0.0000, 0.0000,\n",
      "          0.0000, 0.0000, 0.0000, 0.0000, 0.0000, 0.0000, 0.0000, 0.0000,\n",
      "          0.0000, 0.0000, 0.0000, 0.0000],\n",
      "         [0.0000, 0.0000, 0.0000, 0.0000, 0.5333, 0.9922, 0.9922, 0.9922,\n",
      "          0.8314, 0.5294, 0.5176, 0.0627, 0.0000, 0.0000, 0.0000, 0.0000,\n",
      "          0.0000, 0.0000, 0.0000, 0.0000, 0.0000, 0.0000, 0.0000, 0.0000,\n",
      "          0.0000, 0.0000, 0.0000, 0.0000],\n",
      "         [0.0000, 0.0000, 0.0000, 0.0000, 0.0000, 0.0000, 0.0000, 0.0000,\n",
      "          0.0000, 0.0000, 0.0000, 0.0000, 0.0000, 0.0000, 0.0000, 0.0000,\n",
      "          0.0000, 0.0000, 0.0000, 0.0000, 0.0000, 0.0000, 0.0000, 0.0000,\n",
      "          0.0000, 0.0000, 0.0000, 0.0000],\n",
      "         [0.0000, 0.0000, 0.0000, 0.0000, 0.0000, 0.0000, 0.0000, 0.0000,\n",
      "          0.0000, 0.0000, 0.0000, 0.0000, 0.0000, 0.0000, 0.0000, 0.0000,\n",
      "          0.0000, 0.0000, 0.0000, 0.0000, 0.0000, 0.0000, 0.0000, 0.0000,\n",
      "          0.0000, 0.0000, 0.0000, 0.0000],\n",
      "         [0.0000, 0.0000, 0.0000, 0.0000, 0.0000, 0.0000, 0.0000, 0.0000,\n",
      "          0.0000, 0.0000, 0.0000, 0.0000, 0.0000, 0.0000, 0.0000, 0.0000,\n",
      "          0.0000, 0.0000, 0.0000, 0.0000, 0.0000, 0.0000, 0.0000, 0.0000,\n",
      "          0.0000, 0.0000, 0.0000, 0.0000]]]), 5)\n",
      "train_data[0].shape:torch.Size([1, 28, 28])\n",
      "train_data[0][0]의 자료형: <class 'torch.Tensor'>\n",
      "torch_version:1.13.1+cu116\n",
      "['_DataLoader__initialized', '_DataLoader__multiprocessing_context', '_IterableDataset_len_called', '__annotations__', '__class__', '__class_getitem__', '__delattr__', '__dict__', '__dir__', '__doc__', '__eq__', '__format__', '__ge__', '__getattribute__', '__gt__', '__hash__', '__init__', '__init_subclass__', '__iter__', '__le__', '__len__', '__lt__', '__module__', '__ne__', '__new__', '__orig_bases__', '__parameters__', '__reduce__', '__reduce_ex__', '__repr__', '__setattr__', '__sizeof__', '__slots__', '__str__', '__subclasshook__', '__weakref__', '_auto_collation', '_dataset_kind', '_get_iterator', '_index_sampler', '_is_protocol', '_iterator', 'batch_sampler', 'batch_size', 'check_worker_number_rationality', 'collate_fn', 'dataset', 'drop_last', 'generator', 'multiprocessing_context', 'num_workers', 'persistent_workers', 'pin_memory', 'pin_memory_device', 'prefetch_factor', 'sampler', 'timeout', 'worker_init_fn']\n",
      "train_dataloader: torch.Size([32, 1, 28, 28])\n",
      "train_dataloader의 개수: 1875\n"
     ]
    }
   ],
   "source": [
    "# MNIST 데이터셋 불러오기\n",
    "train_data=datasets.MNIST('DeepLearningVision\\data',True,transforms.ToTensor(),\n",
    "                       None,True)\n",
    "\n",
    "test_data=datasets.MNIST('DeepLearningVision\\data',False,transforms.ToTensor(),\n",
    "                       None,True)\n",
    "\n",
    "# 데이터셋의 클래스 객체 저장\n",
    "classes=train_data.classes\n",
    "\n",
    "# train_data 데이터셋 정보를 확인 (dir(train_data))\n",
    "print(f'train_data의 개수: {len(train_data)}')\n",
    "print(f'test_data의 개수: {len(test_data)}')\n",
    "print(f'train_data[0]: {train_data[0]}') # 튜플 (배열,클래스넘버)\n",
    "print(f'train_data[0].shape:{train_data[0][0].shape}') # 배열의 shape\n",
    "print(f'train_data[0][0]의 자료형: {type(train_data[0][0])}') # torch.Tensor형\n",
    "\n",
    "# 데이터셋을 BATCH_SIZE (SGD:Stochastic Gradient Descent) 스토캐스택 경사하강법을 하기 위한 DataLoader 생성\n",
    "train_dataloader=DataLoader(dataset=train_data,\n",
    "                            batch_size=32,\n",
    "                            shuffle=True)\n",
    "\n",
    "test_dataloader=DataLoader(dataset=test_data,\n",
    "                           shuffle=False,\n",
    "                           batch_size=32)\n",
    "print(f'torch_version:{torch.__version__}')\n",
    "# dataloader의 기능 function 확인 (class method, attribution)\n",
    "print(dir(train_dataloader))\n",
    "print(f'train_dataloader: {next(iter(train_dataloader))[0].shape}')\n",
    "print(f'train_dataloader의 개수: {len(train_dataloader)}') # 60000 // 32"
   ]
  },
  {
   "cell_type": "markdown",
   "metadata": {},
   "source": [
    "# 모델 생성 및 Optimizer와 Loss Function 생성"
   ]
  },
  {
   "cell_type": "code",
   "execution_count": 9,
   "metadata": {},
   "outputs": [],
   "source": [
    "# Train_dataloader를 학습하기 위한 딥러닝 신경망 모델 생성\n",
    "# Fully Connected Layer 2개 생성\n",
    "class MNISTModel(torch.nn.Module):\n",
    "    def __init__(self,\n",
    "                 input_shape:int,\n",
    "                 hidden_units:int,\n",
    "                 output_shape:int):\n",
    "        super().__init__()\n",
    "        self.layer1=torch.nn.Sequential(\n",
    "                            torch.nn.Flatten(),\n",
    "                            torch.nn.Linear(in_features=input_shape,\n",
    "                                                   out_features=hidden_units),\n",
    "                            torch.nn.Linear(in_features=hidden_units,\n",
    "                                                   out_features=output_shape)\n",
    "        )\n",
    "    def forward(self,x):\n",
    "        return self.layer1(x)\n",
    "\n",
    "# 28 * 28 사이즈의 이미지 크기이기에 픽셀 하나를 노드 하나로 취급 \n",
    "# hidden unit 512개의 노드\n",
    "# output_shape은 클래스가 10개 있으므로, 출력층 노드도 10개로 지정\n",
    "model_0=MNISTModel(input_shape=28*28,\n",
    "                   hidden_units=512,\n",
    "                   output_shape=10)\n",
    "\n",
    "# 최적화 기법 (SGD) 정의\n",
    "# 최적화할 손실함수 정의 MSELoss : Mean Squared Loss (평균 제곱 오차)\n",
    "optimizer=torch.optim.SGD(params=model_0.parameters(),lr=0.1) # model_0의 파라미터를 갱신, learning rate는 0.01 (가중치 - 0.01 * Loss에 대한 해당 가중치의 Gradient)\n",
    "loss_fn=torch.nn.CrossEntropyLoss()\n",
    "\n",
    "# 모델 학습하는데 걸리는 시간 측정을 위한 함수\n",
    "from timeit import default_timer as timer\n",
    "def print_train_time(start:float,\n",
    "                     end: float,\n",
    "                     device:torch.device=\"cuda\"):\n",
    "  \"\"\"Prints difference between start and end time.\"\"\"\n",
    "  total_time=end-start\n",
    "  print(f\"{device}상에서 걸린 학습시간: {total_time:.3f} seconds\")\n",
    "  return total_time\n"
   ]
  },
  {
   "cell_type": "markdown",
   "metadata": {},
   "source": [
    "# 학습과 검증 Engine 구현 "
   ]
  },
  {
   "cell_type": "code",
   "execution_count": 10,
   "metadata": {},
   "outputs": [
    {
     "name": "stderr",
     "output_type": "stream",
     "text": [
      "  0%|          | 0/5 [00:00<?, ?it/s]"
     ]
    },
    {
     "name": "stdout",
     "output_type": "stream",
     "text": [
      " train_loss: 0.3830031752586365\n"
     ]
    },
    {
     "name": "stderr",
     "output_type": "stream",
     "text": [
      " 20%|██        | 1/5 [00:16<01:06, 16.69s/it]"
     ]
    },
    {
     "name": "stdout",
     "output_type": "stream",
     "text": [
      "Train_Loss: 0.38, Train_acc: 89.21, Test_Loss: 0.05, Test_Acc: 93.75\n",
      " train_loss: 0.30837327241897583\n"
     ]
    },
    {
     "name": "stderr",
     "output_type": "stream",
     "text": [
      " 40%|████      | 2/5 [00:33<00:50, 16.74s/it]"
     ]
    },
    {
     "name": "stdout",
     "output_type": "stream",
     "text": [
      "Train_Loss: 0.31, Train_acc: 91.23, Test_Loss: 0.05, Test_Acc: 93.75\n",
      " train_loss: 0.2957610785961151\n"
     ]
    },
    {
     "name": "stderr",
     "output_type": "stream",
     "text": [
      " 60%|██████    | 3/5 [00:48<00:31, 15.73s/it]"
     ]
    },
    {
     "name": "stdout",
     "output_type": "stream",
     "text": [
      "Train_Loss: 0.30, Train_acc: 91.69, Test_Loss: 0.05, Test_Acc: 93.75\n",
      " train_loss: 0.29009661078453064\n"
     ]
    },
    {
     "name": "stderr",
     "output_type": "stream",
     "text": [
      " 80%|████████  | 4/5 [01:02<00:15, 15.29s/it]"
     ]
    },
    {
     "name": "stdout",
     "output_type": "stream",
     "text": [
      "Train_Loss: 0.29, Train_acc: 91.81, Test_Loss: 0.05, Test_Acc: 93.75\n",
      " train_loss: 0.2850431203842163\n"
     ]
    },
    {
     "name": "stderr",
     "output_type": "stream",
     "text": [
      "100%|██████████| 5/5 [01:16<00:00, 15.36s/it]"
     ]
    },
    {
     "name": "stdout",
     "output_type": "stream",
     "text": [
      "Train_Loss: 0.29, Train_acc: 91.98, Test_Loss: 0.05, Test_Acc: 100.00\n",
      "cuda상에서 걸린 학습시간: 76.801 seconds\n"
     ]
    },
    {
     "name": "stderr",
     "output_type": "stream",
     "text": [
      "\n"
     ]
    },
    {
     "data": {
      "text/plain": [
       "76.80124589999997"
      ]
     },
     "execution_count": 10,
     "metadata": {},
     "output_type": "execute_result"
    }
   ],
   "source": [
    "# acc 평가\n",
    "def accuracy_fn(prediction,true):\n",
    "    correct=torch.eq(prediction,true).sum().item()\n",
    "    acc=(correct/len(true))*100\n",
    "    return acc\n",
    "\n",
    "start_time=timer()\n",
    "train_acc_list=[]\n",
    "train_loss_list=[]\n",
    "test_loss_list=[]\n",
    "test_acc_list=[]\n",
    "EPOCH=5 # 60000개의 데이터에 대한 훑고감 정도? 10번 시행\n",
    "for epoch in tqdm(range(EPOCH)):\n",
    "    train_loss=0\n",
    "    train_acc=0\n",
    "    for Batch,(x_train,y_train) in enumerate(train_dataloader):\n",
    "        model_0.train(True)\n",
    "        # Do forward pass (로짓 계산)\n",
    "        y_logits=model_0(x_train)\n",
    "        # Calculate loss (손실 계산)\n",
    "        loss=loss_fn(y_logits,y_train)\n",
    "        train_loss+=loss\n",
    "        # acc 계산\n",
    "        train_acc+=accuracy_fn(y_logits.argmax(dim=1),y_train)\n",
    "        # optimizer zero grad (경사 추적 x)\n",
    "        optimizer.zero_grad()\n",
    "        # loss backward (역전파를 통한 gradient 구하기)\n",
    "        loss.backward()\n",
    "        # optimizer step (가중치 갱신)\n",
    "        optimizer.step()\n",
    "    train_loss/=len(train_dataloader)\n",
    "    train_acc/=len(train_dataloader)\n",
    "    train_loss_list.append(train_loss.detach().numpy())\n",
    "    train_acc_list.append(train_acc)\n",
    "    print(f' train_loss: {train_loss}')\n",
    "    # Evaluation\n",
    "    test_loss=0.0\n",
    "    test_acc=0.0\n",
    "    model_0.eval()\n",
    "    with torch.inference_mode():\n",
    "        for X_test,y_test in test_dataloader:\n",
    "            # Forward Pass\n",
    "            test_logits=model_0(X_test)\n",
    "            # 손실 계산\n",
    "            test_loss+=loss_fn(test_logits,y_test)\n",
    "        test_acc+=accuracy_fn(test_logits.argmax(dim=1),y_test)\n",
    "        test_loss /= len(train_dataloader)\n",
    "        test_acc_list.append(test_acc)\n",
    "        test_loss_list.append(test_loss)\n",
    "    print(f\"Train_Loss: {train_loss:.2f}, Train_acc: {train_acc:.2f}, Test_Loss: {test_loss:.2f}, Test_Acc: {test_acc:.2f}\")\n",
    "end_time=timer()\n",
    "print_train_time(start_time,end_time)"
   ]
  },
  {
   "cell_type": "markdown",
   "metadata": {},
   "source": [
    "# 성능 탐구"
   ]
  },
  {
   "cell_type": "code",
   "execution_count": 25,
   "metadata": {},
   "outputs": [
    {
     "data": {
      "text/plain": [
       "<Figure size 1200x800 with 0 Axes>"
      ]
     },
     "metadata": {},
     "output_type": "display_data"
    },
    {
     "data": {
      "image/png": "[encoded data removed]",
      "text/plain": [
       "<Figure size 1200x600 with 2 Axes>"
      ]
     },
     "metadata": {},
     "output_type": "display_data"
    }
   ],
   "source": [
    "# 결과 플로팅 하고싶다.\n",
    "plt.figure(figsize=(12,8))\n",
    "\n",
    "from matplotlib import font_manager, rc\n",
    "font_path = \"c:\\WINDOWS\\Fonts\\GULIM.TTC\"\n",
    "font = font_manager.FontProperties(fname=font_path).get_name()\n",
    "rc('font', family=font)\n",
    "\n",
    "plt.figure(figsize=(12,6))\n",
    "plt.rc('font', size=12) \n",
    "plt.subplot(1,2,1)\n",
    "plt.plot(np.arange(EPOCH),train_acc_list,label='train_acc',color='red')\n",
    "plt.plot(np.arange(EPOCH),test_acc_list,label='test_acc',color='blue')\n",
    "plt.xlabel('EPOCHS')\n",
    "plt.title('정확성')\n",
    "plt.ylabel(\"Accuracy\")\n",
    "plt.legend(fontsize=10)\n",
    "\n",
    "plt.subplot(1,2,2)\n",
    "plt.plot(np.arange(EPOCH),test_loss_list,label='test_loss',color='red')\n",
    "plt.plot(np.arange(EPOCH),train_loss_list,label='train_loss',color='blue')\n",
    "plt.xlabel('EPOCHS')\n",
    "plt.title('손실')\n",
    "plt.ylabel(\"Loss\")\n",
    "plt.legend(fontsize=10)\n",
    "plt.show()"
   ]
  },
  {
   "cell_type": "markdown",
   "metadata": {},
   "source": [
    "# Model 파라미터 Save"
   ]
  },
  {
   "cell_type": "code",
   "execution_count": 40,
   "metadata": {},
   "outputs": [
    {
     "name": "stdout",
     "output_type": "stream",
     "text": [
      "모델 파라미터 형태 파악: \n",
      " OrderedDict([('layer1.1.weight', tensor([[ 0.0024,  0.0234, -0.0012,  ..., -0.0274, -0.0236,  0.0332],\n",
      "        [-0.0135,  0.0156,  0.0342,  ..., -0.0157, -0.0237,  0.0265],\n",
      "        [-0.0122,  0.0258, -0.0029,  ...,  0.0300,  0.0215, -0.0158],\n",
      "        ...,\n",
      "        [-0.0219,  0.0241,  0.0257,  ...,  0.0150, -0.0116,  0.0302],\n",
      "        [-0.0355, -0.0131,  0.0183,  ..., -0.0187,  0.0176, -0.0311],\n",
      "        [-0.0024, -0.0195,  0.0274,  ..., -0.0013, -0.0065, -0.0197]])), ('layer1.1.bias', tensor([-0.1597, -0.0802, -0.0298,  0.0376, -0.1233, -0.0206,  0.0638,  0.0085,\n",
      "         0.0258,  0.0172,  0.1188,  0.0246,  0.0093, -0.0946, -0.0853, -0.0418,\n",
      "         0.1150, -0.0652, -0.0278,  0.0291, -0.0460,  0.0112,  0.0203, -0.0150,\n",
      "         0.0391, -0.0624, -0.1288, -0.0598,  0.0413, -0.0094, -0.0992,  0.1886,\n",
      "        -0.1206, -0.0884,  0.0162, -0.0194, -0.0494, -0.0432, -0.0888,  0.0170,\n",
      "        -0.1133, -0.0656,  0.1445, -0.0077, -0.0426,  0.1418,  0.0577,  0.0069,\n",
      "         0.0424,  0.0573, -0.0318, -0.0085, -0.0178,  0.0277,  0.1035, -0.0822,\n",
      "        -0.0551, -0.1656,  0.0166, -0.0291,  0.0553, -0.1035,  0.0501,  0.0979,\n",
      "         0.1901,  0.0493, -0.0090,  0.0192, -0.0643,  0.1480, -0.0872,  0.1855,\n",
      "         0.1218, -0.1012, -0.0007, -0.0147, -0.0033, -0.1776,  0.0009,  0.1265,\n",
      "         0.0668, -0.0228,  0.0087, -0.0519, -0.0934, -0.0886,  0.0139, -0.1476,\n",
      "         0.0988, -0.1083,  0.0345, -0.0583, -0.1291, -0.1246,  0.1150,  0.0541,\n",
      "         0.1154,  0.0421, -0.0848, -0.0147,  0.0884,  0.0531,  0.0283, -0.0682,\n",
      "        -0.0663, -0.0565, -0.1646,  0.0672,  0.0216, -0.1698, -0.0594,  0.1597,\n",
      "         0.0370, -0.0989, -0.0074,  0.0773, -0.0031,  0.1562, -0.0635, -0.0120,\n",
      "        -0.1567,  0.0222,  0.1118,  0.0052,  0.0580, -0.0204, -0.0158,  0.0372,\n",
      "        -0.0160,  0.0804,  0.0944, -0.1262, -0.1100,  0.1114,  0.1201, -0.1336,\n",
      "        -0.0880, -0.0297, -0.0897, -0.0025, -0.0455,  0.1985,  0.0375,  0.0591,\n",
      "         0.0173, -0.1655, -0.0250, -0.1097,  0.0168,  0.0741,  0.0725, -0.1135,\n",
      "        -0.0587, -0.1158,  0.1268,  0.0053, -0.0055,  0.0210,  0.0323,  0.0434,\n",
      "         0.0177,  0.0940, -0.1284, -0.0952,  0.0919,  0.0110,  0.0827,  0.0402,\n",
      "         0.0573,  0.0265, -0.0028, -0.0543, -0.0576,  0.0319, -0.0053,  0.0604,\n",
      "         0.0375, -0.0086,  0.0676, -0.0922,  0.1082, -0.1351,  0.1268,  0.0690,\n",
      "         0.0678,  0.1480,  0.1092, -0.0179,  0.0171, -0.0786,  0.1426, -0.0016,\n",
      "        -0.0856, -0.1026,  0.0870,  0.0395, -0.1322, -0.0244,  0.0432,  0.0816,\n",
      "        -0.1298,  0.0850, -0.1264,  0.1365,  0.0465,  0.0573,  0.0375, -0.0900,\n",
      "        -0.1460,  0.0064, -0.0438, -0.0239, -0.0395,  0.0144,  0.0219,  0.0572,\n",
      "        -0.2362,  0.0446, -0.0023,  0.0528, -0.0398,  0.0869, -0.0396, -0.1535,\n",
      "         0.0479,  0.0297, -0.0106, -0.0127, -0.0026,  0.2425,  0.0133,  0.0369,\n",
      "         0.1119,  0.0128,  0.1453, -0.0843, -0.0209, -0.0972, -0.0241,  0.0481,\n",
      "         0.0202, -0.0408,  0.1585, -0.0117,  0.0179, -0.0111,  0.0408, -0.0568,\n",
      "        -0.0664,  0.1020,  0.0522, -0.0267,  0.0046, -0.1246,  0.0455,  0.0611,\n",
      "         0.0630,  0.0964, -0.0203, -0.0408, -0.0451,  0.0207,  0.0132,  0.0326,\n",
      "         0.0223, -0.0326, -0.0265, -0.0333,  0.0638, -0.0040,  0.0902,  0.0366,\n",
      "         0.0717, -0.1077,  0.0561,  0.0452, -0.0169,  0.0829,  0.0005, -0.0844,\n",
      "        -0.1003, -0.2053,  0.0578, -0.0970, -0.0590, -0.2689, -0.1592,  0.1690,\n",
      "         0.0043, -0.0950, -0.0187,  0.0074, -0.0681, -0.2133, -0.1383,  0.0802,\n",
      "        -0.0535, -0.1025,  0.0679,  0.0016,  0.0901,  0.0013, -0.0494, -0.0647,\n",
      "         0.1027,  0.1427, -0.0092,  0.0731, -0.1385, -0.0914, -0.0661,  0.0546,\n",
      "        -0.0518, -0.0307, -0.0519,  0.0687, -0.0290, -0.1089,  0.0620,  0.0386,\n",
      "         0.0235, -0.0342, -0.1365, -0.0207, -0.0364, -0.0229, -0.0260,  0.0793,\n",
      "         0.0045,  0.0402,  0.0624,  0.0691, -0.0494,  0.0646, -0.0668,  0.0306,\n",
      "        -0.1035, -0.0649, -0.0420, -0.0605, -0.0684, -0.0343,  0.1033, -0.0072,\n",
      "        -0.0833, -0.1566,  0.0027, -0.0242,  0.1563,  0.0371,  0.0177,  0.0613,\n",
      "        -0.0551,  0.0027,  0.0688, -0.0522, -0.1303,  0.0446, -0.0125,  0.0836,\n",
      "        -0.0349, -0.0175, -0.0452,  0.0057, -0.1247,  0.0418,  0.0060, -0.0675,\n",
      "        -0.1207,  0.0670, -0.1151, -0.0806, -0.0411, -0.0144,  0.0441, -0.1026,\n",
      "        -0.0674, -0.0959, -0.0030, -0.0277, -0.0027,  0.0315, -0.0055,  0.0660,\n",
      "        -0.0277, -0.0033, -0.0899, -0.1064, -0.0331,  0.1275, -0.0719, -0.0055,\n",
      "         0.0623,  0.0108,  0.1245, -0.2284,  0.1244, -0.0826,  0.0549, -0.0292,\n",
      "         0.0218, -0.0584,  0.0208, -0.1294,  0.0073,  0.0757, -0.0641, -0.0566,\n",
      "         0.0495,  0.1139, -0.1468,  0.1054,  0.0597, -0.0928, -0.1166,  0.0472,\n",
      "         0.0751,  0.0164, -0.0543, -0.0480,  0.0224,  0.0440,  0.0470,  0.0662,\n",
      "         0.0491, -0.0032,  0.1146,  0.1719, -0.0053,  0.0098, -0.1311,  0.1139,\n",
      "         0.1760, -0.0729, -0.1733,  0.0609, -0.1258, -0.0581, -0.0420,  0.1021,\n",
      "         0.0121, -0.0090, -0.0039, -0.0281, -0.0267, -0.0085, -0.0387,  0.0408,\n",
      "        -0.0440, -0.0707,  0.1172, -0.0540,  0.0847,  0.0184,  0.0725,  0.0467,\n",
      "        -0.0262, -0.1285, -0.0710,  0.1830, -0.0458,  0.0140, -0.0246,  0.0099,\n",
      "         0.0849, -0.1134, -0.0619,  0.0479, -0.0734,  0.0130, -0.0828,  0.1183,\n",
      "         0.0350,  0.0648, -0.0444,  0.0742,  0.0788, -0.1356,  0.0641, -0.0366,\n",
      "         0.1072, -0.0116, -0.0313,  0.0034, -0.0960, -0.1467,  0.0922, -0.1234,\n",
      "         0.0239,  0.2156,  0.0933,  0.0486, -0.0647,  0.0032, -0.0424,  0.0595,\n",
      "        -0.1004, -0.0403, -0.1150, -0.1763,  0.2046, -0.0182, -0.0475, -0.0184,\n",
      "         0.0019, -0.0072, -0.0035, -0.0641,  0.0438,  0.0431,  0.0286,  0.0606])), ('layer1.2.weight', tensor([[ 0.0024, -0.0080,  0.0729,  ..., -0.0559, -0.0575, -0.0796],\n",
      "        [-0.0094,  0.1457, -0.0836,  ..., -0.0130, -0.1980, -0.0443],\n",
      "        [-0.0255,  0.0735, -0.0090,  ...,  0.0282, -0.0466,  0.0219],\n",
      "        ...,\n",
      "        [-0.0051, -0.0392,  0.0477,  ...,  0.0002,  0.0620,  0.0441],\n",
      "        [ 0.0872,  0.0023, -0.0251,  ..., -0.0548, -0.0108, -0.0693],\n",
      "        [-0.0401, -0.0124, -0.0156,  ...,  0.0021,  0.1400,  0.0251]])), ('layer1.2.bias', tensor([-0.4043,  0.0292,  0.2254, -0.1652, -0.0700,  0.7925, -0.0903,  0.2172,\n",
      "        -0.5865,  0.0107]))]) \n",
      "\n"
     ]
    }
   ],
   "source": [
    "print(f'모델 파라미터 형태 파악: \\n {model_0.state_dict()} \\n')"
   ]
  },
  {
   "cell_type": "code",
   "execution_count": 47,
   "metadata": {},
   "outputs": [
    {
     "name": "stdout",
     "output_type": "stream",
     "text": [
      "모델 파라미터 layer1.1의 가중치:\n",
      "  tensor([[ 0.0024,  0.0234, -0.0012,  ..., -0.0274, -0.0236,  0.0332],\n",
      "        [-0.0135,  0.0156,  0.0342,  ..., -0.0157, -0.0237,  0.0265],\n",
      "        [-0.0122,  0.0258, -0.0029,  ...,  0.0300,  0.0215, -0.0158],\n",
      "        ...,\n",
      "        [-0.0219,  0.0241,  0.0257,  ...,  0.0150, -0.0116,  0.0302],\n",
      "        [-0.0355, -0.0131,  0.0183,  ..., -0.0187,  0.0176, -0.0311],\n",
      "        [-0.0024, -0.0195,  0.0274,  ..., -0.0013, -0.0065, -0.0197]])\n",
      "가중치의 길이:  512\n",
      "모델의 bias:\n",
      "  tensor([-0.1597, -0.0802, -0.0298,  0.0376, -0.1233, -0.0206,  0.0638,  0.0085,\n",
      "         0.0258,  0.0172,  0.1188,  0.0246,  0.0093, -0.0946, -0.0853, -0.0418,\n",
      "         0.1150, -0.0652, -0.0278,  0.0291, -0.0460,  0.0112,  0.0203, -0.0150,\n",
      "         0.0391, -0.0624, -0.1288, -0.0598,  0.0413, -0.0094, -0.0992,  0.1886,\n",
      "        -0.1206, -0.0884,  0.0162, -0.0194, -0.0494, -0.0432, -0.0888,  0.0170,\n",
      "        -0.1133, -0.0656,  0.1445, -0.0077, -0.0426,  0.1418,  0.0577,  0.0069,\n",
      "         0.0424,  0.0573, -0.0318, -0.0085, -0.0178,  0.0277,  0.1035, -0.0822,\n",
      "        -0.0551, -0.1656,  0.0166, -0.0291,  0.0553, -0.1035,  0.0501,  0.0979,\n",
      "         0.1901,  0.0493, -0.0090,  0.0192, -0.0643,  0.1480, -0.0872,  0.1855,\n",
      "         0.1218, -0.1012, -0.0007, -0.0147, -0.0033, -0.1776,  0.0009,  0.1265,\n",
      "         0.0668, -0.0228,  0.0087, -0.0519, -0.0934, -0.0886,  0.0139, -0.1476,\n",
      "         0.0988, -0.1083,  0.0345, -0.0583, -0.1291, -0.1246,  0.1150,  0.0541,\n",
      "         0.1154,  0.0421, -0.0848, -0.0147,  0.0884,  0.0531,  0.0283, -0.0682,\n",
      "        -0.0663, -0.0565, -0.1646,  0.0672,  0.0216, -0.1698, -0.0594,  0.1597,\n",
      "         0.0370, -0.0989, -0.0074,  0.0773, -0.0031,  0.1562, -0.0635, -0.0120,\n",
      "        -0.1567,  0.0222,  0.1118,  0.0052,  0.0580, -0.0204, -0.0158,  0.0372,\n",
      "        -0.0160,  0.0804,  0.0944, -0.1262, -0.1100,  0.1114,  0.1201, -0.1336,\n",
      "        -0.0880, -0.0297, -0.0897, -0.0025, -0.0455,  0.1985,  0.0375,  0.0591,\n",
      "         0.0173, -0.1655, -0.0250, -0.1097,  0.0168,  0.0741,  0.0725, -0.1135,\n",
      "        -0.0587, -0.1158,  0.1268,  0.0053, -0.0055,  0.0210,  0.0323,  0.0434,\n",
      "         0.0177,  0.0940, -0.1284, -0.0952,  0.0919,  0.0110,  0.0827,  0.0402,\n",
      "         0.0573,  0.0265, -0.0028, -0.0543, -0.0576,  0.0319, -0.0053,  0.0604,\n",
      "         0.0375, -0.0086,  0.0676, -0.0922,  0.1082, -0.1351,  0.1268,  0.0690,\n",
      "         0.0678,  0.1480,  0.1092, -0.0179,  0.0171, -0.0786,  0.1426, -0.0016,\n",
      "        -0.0856, -0.1026,  0.0870,  0.0395, -0.1322, -0.0244,  0.0432,  0.0816,\n",
      "        -0.1298,  0.0850, -0.1264,  0.1365,  0.0465,  0.0573,  0.0375, -0.0900,\n",
      "        -0.1460,  0.0064, -0.0438, -0.0239, -0.0395,  0.0144,  0.0219,  0.0572,\n",
      "        -0.2362,  0.0446, -0.0023,  0.0528, -0.0398,  0.0869, -0.0396, -0.1535,\n",
      "         0.0479,  0.0297, -0.0106, -0.0127, -0.0026,  0.2425,  0.0133,  0.0369,\n",
      "         0.1119,  0.0128,  0.1453, -0.0843, -0.0209, -0.0972, -0.0241,  0.0481,\n",
      "         0.0202, -0.0408,  0.1585, -0.0117,  0.0179, -0.0111,  0.0408, -0.0568,\n",
      "        -0.0664,  0.1020,  0.0522, -0.0267,  0.0046, -0.1246,  0.0455,  0.0611,\n",
      "         0.0630,  0.0964, -0.0203, -0.0408, -0.0451,  0.0207,  0.0132,  0.0326,\n",
      "         0.0223, -0.0326, -0.0265, -0.0333,  0.0638, -0.0040,  0.0902,  0.0366,\n",
      "         0.0717, -0.1077,  0.0561,  0.0452, -0.0169,  0.0829,  0.0005, -0.0844,\n",
      "        -0.1003, -0.2053,  0.0578, -0.0970, -0.0590, -0.2689, -0.1592,  0.1690,\n",
      "         0.0043, -0.0950, -0.0187,  0.0074, -0.0681, -0.2133, -0.1383,  0.0802,\n",
      "        -0.0535, -0.1025,  0.0679,  0.0016,  0.0901,  0.0013, -0.0494, -0.0647,\n",
      "         0.1027,  0.1427, -0.0092,  0.0731, -0.1385, -0.0914, -0.0661,  0.0546,\n",
      "        -0.0518, -0.0307, -0.0519,  0.0687, -0.0290, -0.1089,  0.0620,  0.0386,\n",
      "         0.0235, -0.0342, -0.1365, -0.0207, -0.0364, -0.0229, -0.0260,  0.0793,\n",
      "         0.0045,  0.0402,  0.0624,  0.0691, -0.0494,  0.0646, -0.0668,  0.0306,\n",
      "        -0.1035, -0.0649, -0.0420, -0.0605, -0.0684, -0.0343,  0.1033, -0.0072,\n",
      "        -0.0833, -0.1566,  0.0027, -0.0242,  0.1563,  0.0371,  0.0177,  0.0613,\n",
      "        -0.0551,  0.0027,  0.0688, -0.0522, -0.1303,  0.0446, -0.0125,  0.0836,\n",
      "        -0.0349, -0.0175, -0.0452,  0.0057, -0.1247,  0.0418,  0.0060, -0.0675,\n",
      "        -0.1207,  0.0670, -0.1151, -0.0806, -0.0411, -0.0144,  0.0441, -0.1026,\n",
      "        -0.0674, -0.0959, -0.0030, -0.0277, -0.0027,  0.0315, -0.0055,  0.0660,\n",
      "        -0.0277, -0.0033, -0.0899, -0.1064, -0.0331,  0.1275, -0.0719, -0.0055,\n",
      "         0.0623,  0.0108,  0.1245, -0.2284,  0.1244, -0.0826,  0.0549, -0.0292,\n",
      "         0.0218, -0.0584,  0.0208, -0.1294,  0.0073,  0.0757, -0.0641, -0.0566,\n",
      "         0.0495,  0.1139, -0.1468,  0.1054,  0.0597, -0.0928, -0.1166,  0.0472,\n",
      "         0.0751,  0.0164, -0.0543, -0.0480,  0.0224,  0.0440,  0.0470,  0.0662,\n",
      "         0.0491, -0.0032,  0.1146,  0.1719, -0.0053,  0.0098, -0.1311,  0.1139,\n",
      "         0.1760, -0.0729, -0.1733,  0.0609, -0.1258, -0.0581, -0.0420,  0.1021,\n",
      "         0.0121, -0.0090, -0.0039, -0.0281, -0.0267, -0.0085, -0.0387,  0.0408,\n",
      "        -0.0440, -0.0707,  0.1172, -0.0540,  0.0847,  0.0184,  0.0725,  0.0467,\n",
      "        -0.0262, -0.1285, -0.0710,  0.1830, -0.0458,  0.0140, -0.0246,  0.0099,\n",
      "         0.0849, -0.1134, -0.0619,  0.0479, -0.0734,  0.0130, -0.0828,  0.1183,\n",
      "         0.0350,  0.0648, -0.0444,  0.0742,  0.0788, -0.1356,  0.0641, -0.0366,\n",
      "         0.1072, -0.0116, -0.0313,  0.0034, -0.0960, -0.1467,  0.0922, -0.1234,\n",
      "         0.0239,  0.2156,  0.0933,  0.0486, -0.0647,  0.0032, -0.0424,  0.0595,\n",
      "        -0.1004, -0.0403, -0.1150, -0.1763,  0.2046, -0.0182, -0.0475, -0.0184,\n",
      "         0.0019, -0.0072, -0.0035, -0.0641,  0.0438,  0.0431,  0.0286,  0.0606])\n",
      "bias의 길이:  512\n",
      "bias의 길이:  10\n"
     ]
    }
   ],
   "source": [
    "print(f'모델 파라미터 layer1.1의 가중치:\\n ',model_0.state_dict()['layer1.1.weight'])\n",
    "print(f'가중치의 길이: ',len(model_0.state_dict()['layer1.1.weight'])) # 히든 레이어의 hidden unit이 512개 ( 512개의 노드 )\n",
    "print(f'모델의 bias:\\n ',model_0.state_dict()['layer1.1.bias'])\n",
    "print('bias의 길이: ',len(model_0.state_dict()['layer1.1.bias'])) # 512개\n",
    "print('bias의 길이: ',len(model_0.state_dict()['layer1.2.bias'])) # 출력 10개"
   ]
  },
  {
   "cell_type": "markdown",
   "metadata": {},
   "source": [
    "다음 파라미터들이 93.5 퍼센트 정확도를 가지고 MNIST (숫자를 분류할 수 있다.) \n",
    "\n",
    "다음 모델은\n",
    "\n",
    "512개의 hidden units을 지닌 1개의 히든 레이어로 구성되어 있으며\n",
    "\n",
    "출력은 10개 (0,1,2,3,4,5,6,7,8,9)를 분류하는 분류기를 지닌다.\n",
    "\n",
    "우리가 흔히 얘기하는 다중 퍼셉트론, 딥러닝의 형태의 모델은 아니지만, 성능이 준수하게 나왔으며,\n",
    "\n",
    "흔히 사용하는 ReLU 비선형 함수를 포함시키지 않아도 분류를 잘하는 모습을 보인다."
   ]
  },
  {
   "cell_type": "code",
   "execution_count": 48,
   "metadata": {},
   "outputs": [
    {
     "name": "stdout",
     "output_type": "stream",
     "text": [
      "Saving model to : models\\model_0.pth\n"
     ]
    }
   ],
   "source": [
    "from pathlib import Path  # 파일 경로 작성하기 다루기에 대한 python 모듈\n",
    "\n",
    "# 1. Create models directory (모델 디렉토리 생성) 수작업으로 이제 폴더를 생성을 할 수 있지만 코딩으로도 된다.\n",
    "MODEL_PATH = Path(\"models\")\n",
    "MODEL_PATH.mkdir(parents=True,exist_ok=True)\n",
    "\n",
    "# 2. Create model save path\n",
    "MODEL_NAME=\"model_0.pth\" #모델 저장은 pt, pth 형태로 저장\n",
    "MODEL_SAVE_PATH=MODEL_PATH / MODEL_NAME\n",
    "MODEL_SAVE_PATH\n",
    "\n",
    "# 3. Save the model state dict\n",
    "print(f\"Saving model to : {MODEL_SAVE_PATH}\")\n",
    "torch.save(obj=model_0.state_dict(),\n",
    "           f=MODEL_SAVE_PATH)\n",
    "     "
   ]
  },
  {
   "cell_type": "markdown",
   "metadata": {},
   "source": [
    "# 모델 Load 해보기"
   ]
  },
  {
   "cell_type": "code",
   "execution_count": 54,
   "metadata": {},
   "outputs": [
    {
     "name": "stdout",
     "output_type": "stream",
     "text": [
      "OrderedDict([('layer1.1.weight', tensor([[ 0.0291,  0.0152,  0.0281,  ...,  0.0183,  0.0162,  0.0336],\n",
      "        [-0.0190, -0.0180, -0.0299,  ..., -0.0038, -0.0286,  0.0125],\n",
      "        [-0.0110,  0.0069,  0.0007,  ...,  0.0274, -0.0301, -0.0151],\n",
      "        ...,\n",
      "        [-0.0045, -0.0304, -0.0029,  ..., -0.0110, -0.0304, -0.0052],\n",
      "        [-0.0033, -0.0204,  0.0160,  ..., -0.0155, -0.0213,  0.0340],\n",
      "        [ 0.0328,  0.0342, -0.0073,  ..., -0.0051,  0.0162,  0.0323]])), ('layer1.1.bias', tensor([-0.0279,  0.0096, -0.0264, -0.0127,  0.0203,  0.0022, -0.0222, -0.0228,\n",
      "         0.0041, -0.0133,  0.0308, -0.0161, -0.0181, -0.0326, -0.0104,  0.0123,\n",
      "        -0.0067,  0.0174, -0.0004, -0.0125,  0.0030, -0.0120, -0.0007, -0.0081,\n",
      "         0.0221,  0.0320,  0.0091, -0.0183, -0.0260, -0.0069, -0.0145,  0.0319,\n",
      "        -0.0061, -0.0156,  0.0214,  0.0310, -0.0161, -0.0096,  0.0152, -0.0116,\n",
      "         0.0191,  0.0046,  0.0113,  0.0008,  0.0057, -0.0138, -0.0285,  0.0068,\n",
      "         0.0065, -0.0045, -0.0075, -0.0216,  0.0030,  0.0296, -0.0280, -0.0273,\n",
      "         0.0314,  0.0281, -0.0066,  0.0176,  0.0168,  0.0102, -0.0041,  0.0033,\n",
      "        -0.0315, -0.0118,  0.0090,  0.0211,  0.0120, -0.0306, -0.0062,  0.0337,\n",
      "         0.0056,  0.0322,  0.0233, -0.0336, -0.0115, -0.0326,  0.0230, -0.0206,\n",
      "         0.0173, -0.0357, -0.0223,  0.0055, -0.0303, -0.0077,  0.0069, -0.0116,\n",
      "         0.0272,  0.0053,  0.0317,  0.0228, -0.0034,  0.0035,  0.0284,  0.0075,\n",
      "        -0.0320, -0.0263,  0.0153, -0.0189,  0.0338,  0.0023,  0.0091, -0.0321,\n",
      "        -0.0167,  0.0257, -0.0356,  0.0106, -0.0228,  0.0052, -0.0350,  0.0182,\n",
      "        -0.0253,  0.0063,  0.0040, -0.0220,  0.0276, -0.0061, -0.0273,  0.0211,\n",
      "        -0.0278,  0.0017, -0.0186, -0.0214, -0.0104,  0.0174, -0.0350,  0.0152,\n",
      "        -0.0172,  0.0288,  0.0260, -0.0043, -0.0179,  0.0109,  0.0037,  0.0128,\n",
      "        -0.0343,  0.0249,  0.0164,  0.0100,  0.0044,  0.0257,  0.0056, -0.0092,\n",
      "         0.0099,  0.0032, -0.0301, -0.0099, -0.0353,  0.0321, -0.0158,  0.0045,\n",
      "         0.0263, -0.0172,  0.0291, -0.0164,  0.0012, -0.0111, -0.0197,  0.0288,\n",
      "         0.0239,  0.0337,  0.0032, -0.0003,  0.0226, -0.0298, -0.0209, -0.0193,\n",
      "        -0.0018, -0.0041, -0.0177, -0.0340,  0.0266, -0.0307, -0.0247, -0.0143,\n",
      "         0.0016, -0.0181,  0.0147, -0.0178, -0.0056,  0.0283,  0.0075, -0.0027,\n",
      "         0.0141,  0.0212, -0.0255, -0.0061, -0.0217, -0.0290, -0.0244, -0.0046,\n",
      "         0.0270,  0.0078, -0.0351,  0.0196, -0.0135, -0.0079,  0.0165, -0.0015,\n",
      "        -0.0095, -0.0164,  0.0082, -0.0288,  0.0321,  0.0140, -0.0232, -0.0355,\n",
      "         0.0091,  0.0024, -0.0163,  0.0080, -0.0294,  0.0069, -0.0173, -0.0080,\n",
      "        -0.0280, -0.0010, -0.0261,  0.0007,  0.0314,  0.0045,  0.0217, -0.0037,\n",
      "         0.0096, -0.0305, -0.0167, -0.0047, -0.0354,  0.0196, -0.0295, -0.0089,\n",
      "         0.0302,  0.0003,  0.0249,  0.0063,  0.0096, -0.0253,  0.0201, -0.0308,\n",
      "         0.0155, -0.0352, -0.0219, -0.0041, -0.0069,  0.0332,  0.0196,  0.0037,\n",
      "         0.0030, -0.0037, -0.0033,  0.0157, -0.0327, -0.0054,  0.0099, -0.0114,\n",
      "        -0.0159, -0.0047,  0.0058,  0.0136, -0.0044,  0.0267,  0.0272, -0.0268,\n",
      "         0.0152, -0.0325,  0.0215,  0.0022,  0.0318, -0.0250, -0.0136,  0.0247,\n",
      "        -0.0118,  0.0082,  0.0013, -0.0071,  0.0313, -0.0132,  0.0294,  0.0163,\n",
      "        -0.0153,  0.0066,  0.0311, -0.0357, -0.0135,  0.0210, -0.0001, -0.0234,\n",
      "        -0.0183,  0.0289,  0.0266,  0.0203, -0.0208,  0.0121,  0.0131,  0.0342,\n",
      "        -0.0151, -0.0067, -0.0231,  0.0321, -0.0007,  0.0352, -0.0223, -0.0215,\n",
      "         0.0202, -0.0116, -0.0218,  0.0302,  0.0165, -0.0111,  0.0134,  0.0219,\n",
      "        -0.0133, -0.0094,  0.0099, -0.0035, -0.0168,  0.0168,  0.0123, -0.0276,\n",
      "        -0.0078,  0.0274,  0.0320,  0.0333, -0.0047,  0.0101, -0.0176,  0.0112,\n",
      "        -0.0108,  0.0116,  0.0294, -0.0226, -0.0180,  0.0063,  0.0152, -0.0281,\n",
      "        -0.0049, -0.0235, -0.0163,  0.0072,  0.0186,  0.0011,  0.0224, -0.0342,\n",
      "         0.0030, -0.0152,  0.0255,  0.0116, -0.0075,  0.0141,  0.0346,  0.0051,\n",
      "        -0.0339, -0.0073,  0.0119, -0.0157, -0.0017, -0.0175, -0.0035,  0.0089,\n",
      "         0.0256,  0.0266,  0.0116,  0.0093, -0.0006, -0.0353, -0.0094, -0.0306,\n",
      "        -0.0337,  0.0035,  0.0152,  0.0037, -0.0233,  0.0350,  0.0202, -0.0342,\n",
      "        -0.0145, -0.0320, -0.0144,  0.0152, -0.0174,  0.0015,  0.0007, -0.0280,\n",
      "        -0.0281,  0.0064, -0.0126, -0.0107,  0.0114, -0.0297, -0.0164,  0.0232,\n",
      "        -0.0023,  0.0304, -0.0262, -0.0118, -0.0345,  0.0226,  0.0209, -0.0047,\n",
      "         0.0116, -0.0261, -0.0210,  0.0012, -0.0038,  0.0017,  0.0350,  0.0171,\n",
      "         0.0071,  0.0139,  0.0114, -0.0103, -0.0313, -0.0161,  0.0321, -0.0198,\n",
      "        -0.0030, -0.0254, -0.0080,  0.0028, -0.0281,  0.0259, -0.0323,  0.0232,\n",
      "        -0.0328, -0.0050,  0.0331,  0.0102,  0.0067,  0.0226, -0.0083, -0.0332,\n",
      "        -0.0183, -0.0180,  0.0333, -0.0294,  0.0085,  0.0013, -0.0060,  0.0034,\n",
      "        -0.0055,  0.0012, -0.0159,  0.0175,  0.0057, -0.0078, -0.0352, -0.0006,\n",
      "        -0.0122,  0.0173,  0.0074, -0.0007, -0.0187,  0.0296, -0.0240,  0.0150,\n",
      "         0.0018, -0.0284, -0.0049,  0.0092, -0.0351,  0.0296, -0.0143,  0.0237,\n",
      "        -0.0330,  0.0127, -0.0220,  0.0211,  0.0213,  0.0062,  0.0032, -0.0145,\n",
      "         0.0137, -0.0054, -0.0182, -0.0110,  0.0274, -0.0329,  0.0164,  0.0310,\n",
      "        -0.0315,  0.0017, -0.0285,  0.0214,  0.0196,  0.0002, -0.0328,  0.0197,\n",
      "         0.0334,  0.0181, -0.0012, -0.0219,  0.0272, -0.0040, -0.0051, -0.0304,\n",
      "         0.0262,  0.0231, -0.0176, -0.0218,  0.0082,  0.0057,  0.0346, -0.0214,\n",
      "        -0.0294, -0.0012,  0.0260,  0.0288,  0.0292,  0.0073, -0.0327,  0.0350])), ('layer1.2.weight', tensor([[ 0.0085,  0.0020,  0.0302,  ..., -0.0099, -0.0229, -0.0408],\n",
      "        [-0.0228, -0.0172, -0.0324,  ..., -0.0397,  0.0031,  0.0006],\n",
      "        [ 0.0286, -0.0363,  0.0296,  ..., -0.0218, -0.0092,  0.0388],\n",
      "        ...,\n",
      "        [-0.0250, -0.0428,  0.0293,  ..., -0.0252, -0.0074,  0.0183],\n",
      "        [ 0.0347, -0.0184,  0.0136,  ...,  0.0409, -0.0060,  0.0168],\n",
      "        [-0.0425,  0.0427, -0.0059,  ...,  0.0170, -0.0288,  0.0256]])), ('layer1.2.bias', tensor([-0.0440, -0.0218,  0.0284, -0.0323, -0.0378,  0.0092, -0.0379, -0.0180,\n",
      "         0.0152,  0.0100]))])\n"
     ]
    }
   ],
   "source": [
    "loaded_model_0 = MNISTModel(input_shape=28*28,hidden_units=512,output_shape=10)\n",
    "\n",
    "print(loaded_model_0.state_dict()) # 새로 랜덤하게 생성되는 Model.state_dict() 파라미터들"
   ]
  },
  {
   "cell_type": "markdown",
   "metadata": {},
   "source": [
    "저장되어 있는 Model_0.pth를 새로운 loaded_model_0에게 넣어준다."
   ]
  },
  {
   "cell_type": "code",
   "execution_count": 58,
   "metadata": {},
   "outputs": [
    {
     "data": {
      "text/plain": [
       "OrderedDict([('layer1.1.weight',\n",
       "              tensor([[ 0.0024,  0.0234, -0.0012,  ..., -0.0274, -0.0236,  0.0332],\n",
       "                      [-0.0135,  0.0156,  0.0342,  ..., -0.0157, -0.0237,  0.0265],\n",
       "                      [-0.0122,  0.0258, -0.0029,  ...,  0.0300,  0.0215, -0.0158],\n",
       "                      ...,\n",
       "                      [-0.0219,  0.0241,  0.0257,  ...,  0.0150, -0.0116,  0.0302],\n",
       "                      [-0.0355, -0.0131,  0.0183,  ..., -0.0187,  0.0176, -0.0311],\n",
       "                      [-0.0024, -0.0195,  0.0274,  ..., -0.0013, -0.0065, -0.0197]])),\n",
       "             ('layer1.1.bias',\n",
       "              tensor([-0.1597, -0.0802, -0.0298,  0.0376, -0.1233, -0.0206,  0.0638,  0.0085,\n",
       "                       0.0258,  0.0172,  0.1188,  0.0246,  0.0093, -0.0946, -0.0853, -0.0418,\n",
       "                       0.1150, -0.0652, -0.0278,  0.0291, -0.0460,  0.0112,  0.0203, -0.0150,\n",
       "                       0.0391, -0.0624, -0.1288, -0.0598,  0.0413, -0.0094, -0.0992,  0.1886,\n",
       "                      -0.1206, -0.0884,  0.0162, -0.0194, -0.0494, -0.0432, -0.0888,  0.0170,\n",
       "                      -0.1133, -0.0656,  0.1445, -0.0077, -0.0426,  0.1418,  0.0577,  0.0069,\n",
       "                       0.0424,  0.0573, -0.0318, -0.0085, -0.0178,  0.0277,  0.1035, -0.0822,\n",
       "                      -0.0551, -0.1656,  0.0166, -0.0291,  0.0553, -0.1035,  0.0501,  0.0979,\n",
       "                       0.1901,  0.0493, -0.0090,  0.0192, -0.0643,  0.1480, -0.0872,  0.1855,\n",
       "                       0.1218, -0.1012, -0.0007, -0.0147, -0.0033, -0.1776,  0.0009,  0.1265,\n",
       "                       0.0668, -0.0228,  0.0087, -0.0519, -0.0934, -0.0886,  0.0139, -0.1476,\n",
       "                       0.0988, -0.1083,  0.0345, -0.0583, -0.1291, -0.1246,  0.1150,  0.0541,\n",
       "                       0.1154,  0.0421, -0.0848, -0.0147,  0.0884,  0.0531,  0.0283, -0.0682,\n",
       "                      -0.0663, -0.0565, -0.1646,  0.0672,  0.0216, -0.1698, -0.0594,  0.1597,\n",
       "                       0.0370, -0.0989, -0.0074,  0.0773, -0.0031,  0.1562, -0.0635, -0.0120,\n",
       "                      -0.1567,  0.0222,  0.1118,  0.0052,  0.0580, -0.0204, -0.0158,  0.0372,\n",
       "                      -0.0160,  0.0804,  0.0944, -0.1262, -0.1100,  0.1114,  0.1201, -0.1336,\n",
       "                      -0.0880, -0.0297, -0.0897, -0.0025, -0.0455,  0.1985,  0.0375,  0.0591,\n",
       "                       0.0173, -0.1655, -0.0250, -0.1097,  0.0168,  0.0741,  0.0725, -0.1135,\n",
       "                      -0.0587, -0.1158,  0.1268,  0.0053, -0.0055,  0.0210,  0.0323,  0.0434,\n",
       "                       0.0177,  0.0940, -0.1284, -0.0952,  0.0919,  0.0110,  0.0827,  0.0402,\n",
       "                       0.0573,  0.0265, -0.0028, -0.0543, -0.0576,  0.0319, -0.0053,  0.0604,\n",
       "                       0.0375, -0.0086,  0.0676, -0.0922,  0.1082, -0.1351,  0.1268,  0.0690,\n",
       "                       0.0678,  0.1480,  0.1092, -0.0179,  0.0171, -0.0786,  0.1426, -0.0016,\n",
       "                      -0.0856, -0.1026,  0.0870,  0.0395, -0.1322, -0.0244,  0.0432,  0.0816,\n",
       "                      -0.1298,  0.0850, -0.1264,  0.1365,  0.0465,  0.0573,  0.0375, -0.0900,\n",
       "                      -0.1460,  0.0064, -0.0438, -0.0239, -0.0395,  0.0144,  0.0219,  0.0572,\n",
       "                      -0.2362,  0.0446, -0.0023,  0.0528, -0.0398,  0.0869, -0.0396, -0.1535,\n",
       "                       0.0479,  0.0297, -0.0106, -0.0127, -0.0026,  0.2425,  0.0133,  0.0369,\n",
       "                       0.1119,  0.0128,  0.1453, -0.0843, -0.0209, -0.0972, -0.0241,  0.0481,\n",
       "                       0.0202, -0.0408,  0.1585, -0.0117,  0.0179, -0.0111,  0.0408, -0.0568,\n",
       "                      -0.0664,  0.1020,  0.0522, -0.0267,  0.0046, -0.1246,  0.0455,  0.0611,\n",
       "                       0.0630,  0.0964, -0.0203, -0.0408, -0.0451,  0.0207,  0.0132,  0.0326,\n",
       "                       0.0223, -0.0326, -0.0265, -0.0333,  0.0638, -0.0040,  0.0902,  0.0366,\n",
       "                       0.0717, -0.1077,  0.0561,  0.0452, -0.0169,  0.0829,  0.0005, -0.0844,\n",
       "                      -0.1003, -0.2053,  0.0578, -0.0970, -0.0590, -0.2689, -0.1592,  0.1690,\n",
       "                       0.0043, -0.0950, -0.0187,  0.0074, -0.0681, -0.2133, -0.1383,  0.0802,\n",
       "                      -0.0535, -0.1025,  0.0679,  0.0016,  0.0901,  0.0013, -0.0494, -0.0647,\n",
       "                       0.1027,  0.1427, -0.0092,  0.0731, -0.1385, -0.0914, -0.0661,  0.0546,\n",
       "                      -0.0518, -0.0307, -0.0519,  0.0687, -0.0290, -0.1089,  0.0620,  0.0386,\n",
       "                       0.0235, -0.0342, -0.1365, -0.0207, -0.0364, -0.0229, -0.0260,  0.0793,\n",
       "                       0.0045,  0.0402,  0.0624,  0.0691, -0.0494,  0.0646, -0.0668,  0.0306,\n",
       "                      -0.1035, -0.0649, -0.0420, -0.0605, -0.0684, -0.0343,  0.1033, -0.0072,\n",
       "                      -0.0833, -0.1566,  0.0027, -0.0242,  0.1563,  0.0371,  0.0177,  0.0613,\n",
       "                      -0.0551,  0.0027,  0.0688, -0.0522, -0.1303,  0.0446, -0.0125,  0.0836,\n",
       "                      -0.0349, -0.0175, -0.0452,  0.0057, -0.1247,  0.0418,  0.0060, -0.0675,\n",
       "                      -0.1207,  0.0670, -0.1151, -0.0806, -0.0411, -0.0144,  0.0441, -0.1026,\n",
       "                      -0.0674, -0.0959, -0.0030, -0.0277, -0.0027,  0.0315, -0.0055,  0.0660,\n",
       "                      -0.0277, -0.0033, -0.0899, -0.1064, -0.0331,  0.1275, -0.0719, -0.0055,\n",
       "                       0.0623,  0.0108,  0.1245, -0.2284,  0.1244, -0.0826,  0.0549, -0.0292,\n",
       "                       0.0218, -0.0584,  0.0208, -0.1294,  0.0073,  0.0757, -0.0641, -0.0566,\n",
       "                       0.0495,  0.1139, -0.1468,  0.1054,  0.0597, -0.0928, -0.1166,  0.0472,\n",
       "                       0.0751,  0.0164, -0.0543, -0.0480,  0.0224,  0.0440,  0.0470,  0.0662,\n",
       "                       0.0491, -0.0032,  0.1146,  0.1719, -0.0053,  0.0098, -0.1311,  0.1139,\n",
       "                       0.1760, -0.0729, -0.1733,  0.0609, -0.1258, -0.0581, -0.0420,  0.1021,\n",
       "                       0.0121, -0.0090, -0.0039, -0.0281, -0.0267, -0.0085, -0.0387,  0.0408,\n",
       "                      -0.0440, -0.0707,  0.1172, -0.0540,  0.0847,  0.0184,  0.0725,  0.0467,\n",
       "                      -0.0262, -0.1285, -0.0710,  0.1830, -0.0458,  0.0140, -0.0246,  0.0099,\n",
       "                       0.0849, -0.1134, -0.0619,  0.0479, -0.0734,  0.0130, -0.0828,  0.1183,\n",
       "                       0.0350,  0.0648, -0.0444,  0.0742,  0.0788, -0.1356,  0.0641, -0.0366,\n",
       "                       0.1072, -0.0116, -0.0313,  0.0034, -0.0960, -0.1467,  0.0922, -0.1234,\n",
       "                       0.0239,  0.2156,  0.0933,  0.0486, -0.0647,  0.0032, -0.0424,  0.0595,\n",
       "                      -0.1004, -0.0403, -0.1150, -0.1763,  0.2046, -0.0182, -0.0475, -0.0184,\n",
       "                       0.0019, -0.0072, -0.0035, -0.0641,  0.0438,  0.0431,  0.0286,  0.0606])),\n",
       "             ('layer1.2.weight',\n",
       "              tensor([[ 0.0024, -0.0080,  0.0729,  ..., -0.0559, -0.0575, -0.0796],\n",
       "                      [-0.0094,  0.1457, -0.0836,  ..., -0.0130, -0.1980, -0.0443],\n",
       "                      [-0.0255,  0.0735, -0.0090,  ...,  0.0282, -0.0466,  0.0219],\n",
       "                      ...,\n",
       "                      [-0.0051, -0.0392,  0.0477,  ...,  0.0002,  0.0620,  0.0441],\n",
       "                      [ 0.0872,  0.0023, -0.0251,  ..., -0.0548, -0.0108, -0.0693],\n",
       "                      [-0.0401, -0.0124, -0.0156,  ...,  0.0021,  0.1400,  0.0251]])),\n",
       "             ('layer1.2.bias',\n",
       "              tensor([-0.4043,  0.0292,  0.2254, -0.1652, -0.0700,  0.7925, -0.0903,  0.2172,\n",
       "                      -0.5865,  0.0107]))])"
      ]
     },
     "execution_count": 58,
     "metadata": {},
     "output_type": "execute_result"
    }
   ],
   "source": [
    "loaded_model_0.load_state_dict(torch.load(MODEL_SAVE_PATH))\n",
    "print(loaded_model_0.state_dict())"
   ]
  },
  {
   "cell_type": "markdown",
   "metadata": {},
   "source": [
    "# 새롭게 load된 모델은 숫자3.jpg를 잘 인식할 수 있을까?"
   ]
  },
  {
   "cell_type": "code",
   "execution_count": 91,
   "metadata": {},
   "outputs": [],
   "source": [
    "from PIL.Image import open\n",
    "from torchvision.io import read_image \n",
    "from torchvision.transforms import Resize,Grayscale,Compose\n",
    "testing_image=read_image(r'C:\\Users\\hyssk\\opencv\\DeepLearningVision\\MNIST\\숫자3.jpg')\n",
    "transform=Compose([Resize((28,28)),Grayscale()])\n",
    "transformed_image=transform(testing_image)\n",
    "transformed_image=transformed_image/255\n"
   ]
  },
  {
   "cell_type": "code",
   "execution_count": 100,
   "metadata": {},
   "outputs": [
    {
     "data": {
      "image/png": "[encoded data removed]",
      "text/plain": [
       "<Figure size 640x480 with 1 Axes>"
      ]
     },
     "metadata": {},
     "output_type": "display_data"
    }
   ],
   "source": [
    "predict_number=loaded_model_0(transformed_image).argmax(dim=1) # loaded_model_0에 transformed 시킨 이미지를 입력함\n",
    "classes[predict_number] # 3-three라고 잘 인식한다.\n",
    "plt.figure()\n",
    "plt.imshow(transformed_image.permute(1,2,0),cmap='gray') # 숫자 3.jpg를 모델이 예측함.\n",
    "plt.title(f'Predict(모델이 예측한 정답: {classes[predict_number]}')\n",
    "plt.axis(False)\n",
    "plt.show()"
   ]
  }
 ],
 "metadata": {
  "kernelspec": {
   "display_name": "Opencv",
   "language": "python",
   "name": "python3"
  },
  "language_info": {
   "codemirror_mode": {
    "name": "ipython",
    "version": 3
   },
   "file_extension": ".py",
   "mimetype": "text/x-python",
   "name": "python",
   "nbconvert_exporter": "python",
   "pygments_lexer": "ipython3",
   "version": "3.9.18"
  }
 },
 "nbformat": 4,
 "nbformat_minor": 2
}
