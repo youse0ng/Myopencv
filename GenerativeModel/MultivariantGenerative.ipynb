{
 "cells": [
  {
   "cell_type": "markdown",
   "id": "6655c9a2",
   "metadata": {},
   "source": [
    "# 키와 몸무게의 평균과 공분산을 구하고, 가우시안 정규 분포(Generative Model)를 한다는 가정하에 새로운 샘플 생성하기"
   ]
  },
  {
   "cell_type": "code",
   "execution_count": 10,
   "id": "99d9fad8",
   "metadata": {},
   "outputs": [
    {
     "name": "stdout",
     "output_type": "stream",
     "text": [
      "[169.66666667  69.33333333]\n",
      "[[112.78787879 104.93939394]\n",
      " [104.93939394 137.15151515]]\n"
     ]
    },
    {
     "data": {
      "text/plain": [
       "array([[163.57832354,  60.89143988],\n",
       "       [174.87429302,  84.55294148],\n",
       "       [181.71121889,  72.65411088],\n",
       "       [177.04951   ,  80.23595331],\n",
       "       [182.09372835,  94.06996794]])"
      ]
     },
     "execution_count": 10,
     "metadata": {},
     "output_type": "execute_result"
    }
   ],
   "source": [
    "import numpy as np\n",
    "\n",
    "X = np.array([[169,70],[172,68],[175,78],[163,58],[180,80],[159,76],[158,52],[173,69],[180,75],[150,50],[187,90],[170,66]])\n",
    "m = np.mean(X,axis=0)\n",
    "print(m)\n",
    "cv = np.cov(X,rowvar=False)\n",
    "print(cv)\n",
    "gen = np.random.multivariate_normal(m,cv,5)\n",
    "gen"
   ]
  },
  {
   "cell_type": "markdown",
   "id": "76d20a84",
   "metadata": {},
   "source": [
    "112.78은 키의 분산, 137.15는 몸무게의 분산, 104.939는 키와 몸무게의 공분산"
   ]
  }
 ],
 "metadata": {
  "kernelspec": {
   "display_name": "pytorch",
   "language": "python",
   "name": "python3"
  },
  "language_info": {
   "codemirror_mode": {
    "name": "ipython",
    "version": 3
   },
   "file_extension": ".py",
   "mimetype": "text/x-python",
   "name": "python",
   "nbconvert_exporter": "python",
   "pygments_lexer": "ipython3",
   "version": "3.9.19"
  }
 },
 "nbformat": 4,
 "nbformat_minor": 5
}
